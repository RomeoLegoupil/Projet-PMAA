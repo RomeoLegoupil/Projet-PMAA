{
 "cells": [
  {
   "cell_type": "code",
   "execution_count": 1,
   "metadata": {},
   "outputs": [],
   "source": [
    "mutable struct TreeNode\n",
    "  parent::Int             # indice de l'arbre des parents du noeud\n",
    "  children::Vector{Int}   # indices de l'arbre des enfants du noeud\n",
    "  lb::Float32             # borne inférieure du noeud\n",
    "  setzero::Array{Tuple}   # liste d'indices des variables de branchement qui sont égales à 0\n",
    "  setone::Array{Tuple}    # liste d'indices des variables de branchement qui sont égales à 1\n",
    "end"
   ]
  }
 ],
 "metadata": {
  "kernelspec": {
   "display_name": "Julia 1.7.2",
   "language": "julia",
   "name": "julia-1.7"
  },
  "language_info": {
   "file_extension": ".jl",
   "mimetype": "application/julia",
   "name": "julia",
   "version": "1.7.2"
  }
 },
 "nbformat": 4,
 "nbformat_minor": 4
}
