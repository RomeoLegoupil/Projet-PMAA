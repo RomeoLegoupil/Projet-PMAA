{
 "cells": [
  {
   "cell_type": "code",
   "execution_count": 13,
   "metadata": {
    "scrolled": true
   },
   "outputs": [
    {
     "name": "stderr",
     "output_type": "stream",
     "text": [
      "\u001b[32m\u001b[1m   Resolving\u001b[22m\u001b[39m package versions...\n",
      "\u001b[32m\u001b[1m  No Changes\u001b[22m\u001b[39m to `~/.julia/environments/v1.7/Project.toml`\n",
      "\u001b[32m\u001b[1m  No Changes\u001b[22m\u001b[39m to `~/.julia/environments/v1.7/Manifest.toml`\n",
      "\u001b[32m\u001b[1m   Resolving\u001b[22m\u001b[39m package versions...\n",
      "\u001b[32m\u001b[1m  No Changes\u001b[22m\u001b[39m to `~/.julia/environments/v1.7/Project.toml`\n",
      "\u001b[32m\u001b[1m  No Changes\u001b[22m\u001b[39m to `~/.julia/environments/v1.7/Manifest.toml`\n",
      "\u001b[32m\u001b[1m   Resolving\u001b[22m\u001b[39m package versions...\n",
      "\u001b[32m\u001b[1m  No Changes\u001b[22m\u001b[39m to `~/.julia/environments/v1.7/Project.toml`\n",
      "\u001b[32m\u001b[1m  No Changes\u001b[22m\u001b[39m to `~/.julia/environments/v1.7/Manifest.toml`\n",
      "\u001b[32m\u001b[1m   Resolving\u001b[22m\u001b[39m package versions...\n",
      "\u001b[32m\u001b[1m  No Changes\u001b[22m\u001b[39m to `~/.julia/environments/v1.7/Project.toml`\n",
      "\u001b[32m\u001b[1m  No Changes\u001b[22m\u001b[39m to `~/.julia/environments/v1.7/Manifest.toml`\n",
      "\u001b[32m\u001b[1m   Resolving\u001b[22m\u001b[39m package versions...\n",
      "\u001b[32m\u001b[1m   Installed\u001b[22m\u001b[39m LaTeXStrings ─ v1.3.0\n",
      "\u001b[32m\u001b[1m   Installed\u001b[22m\u001b[39m PyPlot ─────── v2.10.0\n",
      "\u001b[32m\u001b[1m   Installed\u001b[22m\u001b[39m PyCall ─────── v1.93.1\n",
      "\u001b[32m\u001b[1m    Updating\u001b[22m\u001b[39m `~/.julia/environments/v1.7/Project.toml`\n",
      " \u001b[90m [d330b81b] \u001b[39m\u001b[92m+ PyPlot v2.10.0\u001b[39m\n",
      "\u001b[32m\u001b[1m    Updating\u001b[22m\u001b[39m `~/.julia/environments/v1.7/Manifest.toml`\n",
      " \u001b[90m [b964fa9f] \u001b[39m\u001b[92m+ LaTeXStrings v1.3.0\u001b[39m\n",
      " \u001b[90m [438e738f] \u001b[39m\u001b[92m+ PyCall v1.93.1\u001b[39m\n",
      " \u001b[90m [d330b81b] \u001b[39m\u001b[92m+ PyPlot v2.10.0\u001b[39m\n",
      "\u001b[32m\u001b[1m    Building\u001b[22m\u001b[39m PyCall → `~/.julia/scratchspaces/44cfe95a-1eb2-52ea-b672-e2afdf69b78f/1fc929f47d7c151c839c5fc1375929766fb8edcc/build.log`\n",
      "\u001b[32m\u001b[1mPrecompiling\u001b[22m\u001b[39m project...\n",
      "\u001b[32m  ✓ \u001b[39m\u001b[90mLaTeXStrings\u001b[39m\n",
      "\u001b[32m  ✓ \u001b[39m\u001b[90mPyCall\u001b[39m\n",
      "\u001b[32m  ✓ \u001b[39mPyPlot\n",
      "  3 dependencies successfully precompiled in 10 seconds (94 already precompiled, 1 skipped during auto due to previous errors)\n"
     ]
    }
   ],
   "source": [
    "#import Pkg;\n",
    "#Pkg.add(\"Graphs\")\n",
    "#Pkg.add(\"GraphPlot\")\n",
    "#Pkg.add(\"Compose\")\n",
    "#Pkg.build(\"GraphPlot\")\n",
    "#Pkg.add(\"LightGraphs\")\n",
    "#Pkg.add(\"PyPlot\")"
   ]
  },
  {
   "cell_type": "code",
   "execution_count": 5,
   "metadata": {},
   "outputs": [],
   "source": [
    "using DelimitedFiles\n",
    "using Graphs, GraphPlot #, Compose, LightGraphs, PyPlot"
   ]
  },
  {
   "cell_type": "code",
   "execution_count": 4,
   "metadata": {},
   "outputs": [
    {
     "ename": "LoadError",
     "evalue": "UndefVarError: SimpleDiGraph not defined",
     "output_type": "error",
     "traceback": [
      "UndefVarError: SimpleDiGraph not defined",
      "",
      "Stacktrace:",
      " [1] top-level scope",
      "   @ In[4]:1",
      " [2] eval",
      "   @ .\\boot.jl:373 [inlined]",
      " [3] include_string(mapexpr::typeof(REPL.softscope), mod::Module, code::String, filename::String)",
      "   @ Base .\\loading.jl:1196"
     ]
    }
   ],
   "source": [
    "struct Instance\n",
    "    graph::SimpleDiGraph             #graphe du probleme \n",
    "    vertex_weight::Vector{Float64}   #poids associés au noeuds\n",
    "    edge_weight::Matrix{Float64}     #poids associés au arcs\n",
    "    pairs::Vector{Int}               #ensemble des noeuds correspondant aux paires de personnes\n",
    "    altruists::Vector{Int}           #ensemble des noeuds altruistes\n",
    "    nb_pairs::Int                    #nombre de noeuds correspondant aux paires de personnes\n",
    "    nb_altruists::Int                #nombre de noeuds altruistes\n",
    "    max_cycle_length::Int            #longueur maximale de cycle toléré\n",
    "    max_chain_length::Int            #longueur de la chaine de la solution (si j'ai bien compris) \n",
    "    is_vertex_weighted::Bool         #booléen specifiant si les arcs sont pondérés ou non\n",
    "    \n",
    "    #constructeur 1 (graph + poids en entrée)\n",
    "    function Instance(g::SimpleDiGraph, vertex_weight::Array{Float64}, K::Int, L::Int = 0)\n",
    "        P = [v for v in vertices(g) if vertex_weight[v] != 0.0] #ensemble des noeuds ponderés (paires)\n",
    "        A = [v for v in vertices(g) if vertex_weight[v] == 0.0] #ensemble des noeuds non ponderés (altruistes)\n",
    "        edge_weight = zeros(nv(g), nv(g)) #initialisation du poids des arcs a 0\n",
    "        for e in edges(g)\n",
    "            edge_weight[e.src,e.dst] = vertex_weight[e.dst] #pour tous les noeuds, on definit le poids d'un arc par le poids du noeud d'arrive\n",
    "        end\n",
    "\n",
    "        return new(g, vertex_weight, edge_weight, P, A, length(P), length(A), K, L, true)\n",
    "        #retourne les attributs de l'instance\n",
    "                                    \n",
    "    end\n",
    "           \n",
    "    #contructeur 2 (fichier en entrée)\n",
    "    function Instance(filename::String, K::Int, L::Int = 0)\n",
    "        inst = string(filename)\n",
    "        data_folder = \"data\" # joinpath(pkgdir(KidneyExchange), \"data\")\n",
    "        wmd_file = joinpath(data_folder, join([inst, \".wmd\"]))\n",
    "        dat_file = joinpath(data_folder, join([inst, \".dat\"]))\n",
    "\n",
    "        g, edge_weight, is_altruist = read_kep_file(wmd_file, dat_file) #appel a la fonction du dessous\n",
    "        P = [v for v in vertices(g) if !is_altruist[v]] #ensemble des noeuds correspondant aux paires de personnes\n",
    "        A = [v for v in vertices(g) if is_altruist[v]]  #ensemble des noeuds altruites\n",
    "        vertex_weight = zeros(nv(g)) #initialisation des poids des noeuds\n",
    "        is_vertex_weighted = true\n",
    "        #creation des poids des noeuds\n",
    "        for v in P\n",
    "            vertex_weight[v] = 1.0\n",
    "            if indegree(g, v) >= 1\n",
    "                vertex_weight[v] = edge_weight[inneighbors(g,v)[1],v]\n",
    "                for u in inneighbors(g,v)\n",
    "                    if edge_weight[u,v] != vertex_weight[v]\n",
    "                        is_vertex_weighted = false\n",
    "                        break\n",
    "                    end\n",
    "                end\n",
    "                if !is_vertex_weighted  break   end\n",
    "            end\n",
    "        end\n",
    "        if !is_vertex_weighted\n",
    "            println(\"the instance is not vertex weighted!\")\n",
    "        end\n",
    "        return new(g, vertex_weight, edge_weight, P, A, length(P), length(A), K, L, is_vertex_weighted)\n",
    "            #retourne les attributs de l'instance\n",
    "    end \n",
    "                            \n",
    "end"
   ]
  },
  {
   "cell_type": "code",
   "execution_count": 2,
   "metadata": {},
   "outputs": [
    {
     "data": {
      "text/plain": [
       "read_kep_file (generic function with 1 method)"
      ]
     },
     "execution_count": 2,
     "metadata": {},
     "output_type": "execute_result"
    }
   ],
   "source": [
    "#fonction qui prend en parametre les deux fichiers et retourne le graphe associé, le poids des arcs et le vecteur indicateur des altruistes\n",
    "function read_kep_file(wmd_file::AbstractString, dat_file::AbstractString)\n",
    "\n",
    "    #wmd_file_name = split(split(wmd_file, '/')[end], '.')[1]\n",
    "    #dat_file_name = split(split(dat_file, '/')[end], '.')[1]\n",
    "\n",
    "\twmd_file_name = first(splitext(last(splitpath(wmd_file))))\n",
    "\tdat_file_name = first(splitext(last(splitpath(dat_file))))\n",
    "\n",
    "    wmd_file_name == dat_file_name || throw(ArgumentError(\".wmd and .dat files do not correspond to the same dataset.\"))\n",
    "\tisfile(abspath(wmd_file)) || throw(ArgumentError(\"$(abspath(wmd_file)): file not found.\"))\n",
    "\tisfile(abspath(dat_file)) || throw(ArgumentError(\".dat file not found.\"))\n",
    "\n",
    "\t# Get the number of vertices and edges from the first line of wmd file\n",
    "    wmd_io = open(wmd_file, \"r\")\n",
    "\tsplitted_line = split(readline(wmd_io), ',')\n",
    "\tnb_vertices = parse(Int, splitted_line[1])\n",
    "\tnb_edges = parse(Int, splitted_line[2])\n",
    "\n",
    "    # Extract meta information from the .dat file (atruiste ou non )\n",
    "    file = readdlm(dat_file, '\\n')\n",
    "\tis_altruist = falses(nb_vertices)\n",
    "\tind = 1\n",
    "    for line in file[2:end]\n",
    "        splitted_line = split(line, ',')\n",
    "        if Bool(parse(Int, splitted_line[7]))\n",
    "\t\t\tis_altruist[ind] = true\n",
    "\t\tend\n",
    "\t\tind += 1\n",
    "    end\n",
    "\n",
    "    # Extract the graph structure from the .wmd file\n",
    "    # skip next nb_vertices lines, which are redundant with the data contained in the .dat file\n",
    "    for i in 1:nb_vertices\n",
    "        readline(wmd_io)\n",
    "    end\n",
    "\n",
    "    # read the set of edges\n",
    "\tin_list = Vector{Vector{Int}}(undef, nb_vertices)\n",
    "\tout_list = Vector{Vector{Int}}(undef, nb_vertices)\n",
    "\tfor u in 1:nb_vertices\n",
    "\t\tin_list[u] = Vector{Int}()\n",
    "\t\tout_list[u] = Vector{Int}()\n",
    "\tend\n",
    "\tne = 0\n",
    "\tedge_weight = zeros(nb_vertices, nb_vertices)\n",
    "    while !eof(wmd_io)\n",
    "        splitted_line = split(readline(wmd_io), ',')\n",
    "        # /!\\ Pairs are numbered from 0 in the second part of the file\n",
    "        src = parse(Int, splitted_line[1]) + 1\n",
    "        dst = parse(Int, splitted_line[2]) + 1\n",
    "        weight = parse(Float64, splitted_line[3])\n",
    "\n",
    "        # do not add an edge that has an altruist as destination or that has a zero weight\n",
    "\t\tif !is_altruist[dst] && weight > 0.0\n",
    "\t\t\tne += 1\n",
    "\t\t\tpush!(out_list[src], dst)\n",
    "\t\t\tpush!(in_list[dst], src)\n",
    "\t\t\tedge_weight[src, dst] = weight\n",
    "\t\tend\n",
    "    end\n",
    "\tfor u in 1:nb_vertices\n",
    "\t\tsort!(out_list[u])\n",
    "\t\tsort!(in_list[u])\n",
    "\tend\n",
    "    return SimpleDiGraph(ne, out_list, in_list), edge_weight, is_altruist\n",
    "end"
   ]
  },
  {
   "cell_type": "code",
   "execution_count": 6,
   "metadata": {},
   "outputs": [
    {
     "ename": "LoadError",
     "evalue": "MethodError: no method matching Instance(::String, ::Int64, ::Int64)",
     "output_type": "error",
     "traceback": [
      "MethodError: no method matching Instance(::String, ::Int64, ::Int64)",
      "",
      "Stacktrace:",
      " [1] top-level scope",
      "   @ In[6]:5",
      " [2] eval",
      "   @ .\\boot.jl:373 [inlined]",
      " [3] include_string(mapexpr::typeof(REPL.softscope), mod::Module, code::String, filename::String)",
      "   @ Base .\\loading.jl:1196"
     ]
    }
   ],
   "source": [
    "#Instance de test\n",
    "data_folder = string(@__DIR__,\"/data\")\n",
    "instance_name = \"MD-00001-00000010\"\n",
    "filename = joinpath(data_folder, join([instance_name]))\n",
    "new_inst = Instance(filename, 3, 0)"
   ]
  },
  {
   "cell_type": "code",
   "execution_count": 8,
   "metadata": {},
   "outputs": [
    {
     "ename": "LoadError",
     "evalue": "UndefVarError: new_inst not defined",
     "output_type": "error",
     "traceback": [
      "UndefVarError: new_inst not defined",
      "",
      "Stacktrace:",
      " [1] top-level scope",
      "   @ In[8]:2",
      " [2] eval",
      "   @ .\\boot.jl:373 [inlined]",
      " [3] include_string(mapexpr::typeof(REPL.softscope), mod::Module, code::String, filename::String)",
      "   @ Base .\\loading.jl:1196"
     ]
    }
   ],
   "source": [
    "#Affichage du graphe (difficile de faire un affichage propre)\n",
    "g = new_inst.graph\n",
    "\n",
    "x = [0, 10, 20, 30, 40, 40, 40, 40, 40, 30, 20, 10, 0, 0, 0, 0]\n",
    "y = [0, 0, 0, 0, 0, 10, 20, 30, 40, 40, 40, 40, 40, 30, 20, 10]\n",
    "\n",
    "nodelabel = new_inst.pairs\n",
    "gplot(g, nodelabel=nodelabel, x, y)\n"
   ]
  },
  {
   "cell_type": "code",
   "execution_count": 7,
   "metadata": {},
   "outputs": [
    {
     "data": {
      "text/plain": [
       "\"The instance is represented by the simple directed graph: {16, 47} directed simple Int64 graph\""
      ]
     },
     "execution_count": 7,
     "metadata": {},
     "output_type": "execute_result"
    }
   ],
   "source": [
    "#new_inst.graph : graphique\n",
    "\n",
    "\"The instance is represented by the simple directed graph: $(new_inst.graph)\""
   ]
  },
  {
   "cell_type": "code",
   "execution_count": 10,
   "metadata": {},
   "outputs": [
    {
     "data": {
      "text/plain": [
       "\"Vertex weights are given as [1.0, 1.0, 1.0, 1.0, 1.0, 1.0, 1.0, 1.0, 1.0, 1.0, 1.0, 1.0, 1.0, 1.0, 1.0, 1.0]\""
      ]
     },
     "execution_count": 10,
     "metadata": {},
     "output_type": "execute_result"
    }
   ],
   "source": [
    "#new_inst.vertex_weight : vecteur des poids des noeuds\n",
    "\n",
    "\"Vertex weights are given as $(new_inst.vertex_weight)\""
   ]
  },
  {
   "cell_type": "code",
   "execution_count": 11,
   "metadata": {},
   "outputs": [
    {
     "data": {
      "text/plain": [
       "0.0"
      ]
     },
     "execution_count": 11,
     "metadata": {},
     "output_type": "execute_result"
    }
   ],
   "source": [
    "#new_inst.edge_weight : matrice des poids des arcs\n",
    "\n",
    "new_inst.edge_weight[1,2]"
   ]
  },
  {
   "cell_type": "code",
   "execution_count": 52,
   "metadata": {},
   "outputs": [
    {
     "data": {
      "text/plain": [
       "16"
      ]
     },
     "execution_count": 52,
     "metadata": {},
     "output_type": "execute_result"
    }
   ],
   "source": [
    "#new_inst.pairs : ensemble des noeuds representant une paire\n",
    "\n",
    "new_inst.pairs"
   ]
  },
  {
   "cell_type": "code",
   "execution_count": 42,
   "metadata": {},
   "outputs": [
    {
     "data": {
      "text/plain": [
       "0-element Array{Int64,1}"
      ]
     },
     "execution_count": 42,
     "metadata": {},
     "output_type": "execute_result"
    }
   ],
   "source": [
    "#new_inst.altruists : ensemble des noeuds representant un altruiste\n",
    "\n",
    "new_inst.altruists"
   ]
  },
  {
   "cell_type": "code",
   "execution_count": 43,
   "metadata": {},
   "outputs": [
    {
     "data": {
      "text/plain": [
       "true"
      ]
     },
     "execution_count": 43,
     "metadata": {},
     "output_type": "execute_result"
    }
   ],
   "source": [
    "#new_inst.is_vertex_weighted : booleen indiquant si les noeuds sont pondérés\n",
    "\n",
    "new_inst.is_vertex_weighted"
   ]
  },
  {
   "cell_type": "code",
   "execution_count": 60,
   "metadata": {},
   "outputs": [
    {
     "name": "stdout",
     "output_type": "stream",
     "text": [
      "Nombre de paires : 16\n",
      "Nombre d'altruistes : 0\n"
     ]
    },
    {
     "data": {
      "text/plain": [
       "\"This graph has 16 nodes.\""
      ]
     },
     "execution_count": 60,
     "metadata": {},
     "output_type": "execute_result"
    }
   ],
   "source": [
    "#nv(new_inst.graph) : nombre de noeuds du graphe\n",
    "#new_inst.nb_pairs : nombre de noeuds correspondant a une paire\n",
    "#new_inst.nb_altruists : nombre de noeuds correspondant a un altruiste\n",
    "\n",
    "print(\"Nombre de paires : \", new_inst.nb_pairs,\"\\n\")\n",
    "print(\"Nombre d'altruistes : \",new_inst.nb_altruists,\"\\n\")\n",
    "\"This graph has $(nv(new_inst.graph)) nodes.\"\n"
   ]
  },
  {
   "cell_type": "code",
   "execution_count": 25,
   "metadata": {},
   "outputs": [
    {
     "data": {
      "text/plain": [
       "\"This graph has 47 arcs\""
      ]
     },
     "execution_count": 25,
     "metadata": {},
     "output_type": "execute_result"
    }
   ],
   "source": [
    "#ne(new_inst.graph) : nombre d'arcs du graphe\n",
    "\n",
    "\"This graph has $(ne(new_inst.graph)) arcs.\""
   ]
  },
  {
   "cell_type": "code",
   "execution_count": 31,
   "metadata": {},
   "outputs": [
    {
     "data": {
      "text/plain": [
       "\"The set of nodes is given by Base.OneTo(16). This is an iterable object containing all arcs.\""
      ]
     },
     "execution_count": 31,
     "metadata": {},
     "output_type": "execute_result"
    }
   ],
   "source": [
    "\n",
    "\n",
    "\"The set of nodes is given by $(vertices(new_inst.graph)). This is an iterable object containing all vertices.\""
   ]
  },
  {
   "cell_type": "code",
   "execution_count": 61,
   "metadata": {},
   "outputs": [
    {
     "name": "stdout",
     "output_type": "stream",
     "text": [
      "1\n",
      "2\n",
      "3\n",
      "4\n",
      "5\n",
      "6\n",
      "7\n",
      "8\n",
      "9\n",
      "10\n",
      "11\n",
      "12\n",
      "13\n",
      "14\n",
      "15\n",
      "16\n"
     ]
    }
   ],
   "source": [
    "for v in vertices(new_inst.graph)\n",
    "    println(v)\n",
    "end"
   ]
  },
  {
   "cell_type": "code",
   "execution_count": 28,
   "metadata": {},
   "outputs": [
    {
     "data": {
      "text/plain": [
       "\"The set of arcs is given by SimpleEdgeIter 47\""
      ]
     },
     "execution_count": 28,
     "metadata": {},
     "output_type": "execute_result"
    }
   ],
   "source": [
    "\"The set of arcs is given by $(edges(new_inst.graph)). This is an iterable object containing all arcs.\""
   ]
  },
  {
   "cell_type": "code",
   "execution_count": 1,
   "metadata": {},
   "outputs": [
    {
     "ename": "LoadError",
     "evalue": "UndefVarError: new_inst not defined",
     "output_type": "error",
     "traceback": [
      "UndefVarError: new_inst not defined",
      "",
      "Stacktrace:",
      " [1] top-level scope",
      "   @ ./In[1]:5",
      " [2] eval",
      "   @ ./boot.jl:373 [inlined]",
      " [3] include_string(mapexpr::typeof(REPL.softscope), mod::Module, code::String, filename::String)",
      "   @ Base ./loading.jl:1196"
     ]
    }
   ],
   "source": [
    "#soit e un arc \n",
    "#src(e) : sommet origine de l'arc\n",
    "#dst(e) : sommet destination de l'arc\n",
    "\n",
    "for e in edges(new_inst.graph)\n",
    "    println(\"$e -- has $(src(e)) as its origin and $(dst(e)) as its destination\")\n",
    "end"
   ]
  },
  {
   "cell_type": "code",
   "execution_count": null,
   "metadata": {},
   "outputs": [],
   "source": []
  }
 ],
 "metadata": {
  "kernelspec": {
   "display_name": "Julia 1.7.2",
   "language": "julia",
   "name": "julia-1.7"
  },
  "language_info": {
   "file_extension": ".jl",
   "mimetype": "application/julia",
   "name": "julia",
   "version": "1.7.2"
  }
 },
 "nbformat": 4,
 "nbformat_minor": 4
}
