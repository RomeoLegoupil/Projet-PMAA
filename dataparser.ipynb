{
 "cells": [
  {
   "cell_type": "code",
   "execution_count": 4,
   "metadata": {},
   "outputs": [],
   "source": [
    "using DelimitedFiles\n",
    "using Graphs"
   ]
  },
  {
   "cell_type": "code",
   "execution_count": 5,
   "metadata": {},
   "outputs": [
    {
     "name": "stderr",
     "output_type": "stream",
     "text": [
      "\u001b[32m\u001b[1m    Updating\u001b[22m\u001b[39m registry at `~/.julia/registries/General.toml`\n",
      "\u001b[32m\u001b[1m   Resolving\u001b[22m\u001b[39m package versions...\n",
      "\u001b[32m\u001b[1m  No Changes\u001b[22m\u001b[39m to `~/.julia/environments/v1.7/Project.toml`\n",
      "\u001b[32m\u001b[1m  No Changes\u001b[22m\u001b[39m to `~/.julia/environments/v1.7/Manifest.toml`\n"
     ]
    }
   ],
   "source": [
    "import Pkg; Pkg.add(\"Graphs\")"
   ]
  },
  {
   "cell_type": "code",
   "execution_count": 6,
   "metadata": {},
   "outputs": [],
   "source": [
    "struct Instance\n",
    "    graph::SimpleDiGraph\n",
    "    vertex_weight::Vector{Float64}\n",
    "    edge_weight::Matrix{Float64}\n",
    "    pairs::Vector{Int}\n",
    "    altruists::Vector{Int}\n",
    "    nb_pairs::Int\n",
    "    nb_altruists::Int\n",
    "    max_cycle_length::Int\n",
    "    max_chain_length::Int\n",
    "    is_vertex_weighted::Bool\n",
    "    \n",
    "    function Instance(g::SimpleDiGraph, vertex_weight::Array{Float64}, K::Int, L::Int = 0)\n",
    "        P = [v for v in vertices(g) if vertex_weight[v] != 0.0]\n",
    "        A = [v for v in vertices(g) if vertex_weight[v] == 0.0]\n",
    "        edge_weight = zeros(nv(g), nv(g))\n",
    "        for e in edges(g)\n",
    "            edge_weight[e.src,e.dst] = vertex_weight[e.dst]\n",
    "        end\n",
    "\n",
    "        return new(g, vertex_weight, edge_weight, P, A, length(P), length(A), K, L, true)\n",
    "    end\n",
    "           \n",
    "    function Instance(filename::String, K::Int, L::Int = 0)\n",
    "        inst = string(filename)\n",
    "        data_folder = \"data\" # joinpath(pkgdir(KidneyExchange), \"data\")\n",
    "        wmd_file = joinpath(data_folder, join([inst, \".wmd\"]))\n",
    "        dat_file = joinpath(data_folder, join([inst, \".dat\"]))\n",
    "\n",
    "        g, edge_weight, is_altruist = read_kep_file(wmd_file, dat_file)\n",
    "        P = [v for v in vertices(g) if !is_altruist[v]]\n",
    "        A = [v for v in vertices(g) if is_altruist[v]]\n",
    "        vertex_weight = zeros(nv(g))\n",
    "        is_vertex_weighted = true\n",
    "        for v in P\n",
    "            vertex_weight[v] = 1.0\n",
    "            if indegree(g, v) >= 1\n",
    "                vertex_weight[v] = edge_weight[inneighbors(g,v)[1],v]\n",
    "                for u in inneighbors(g,v)\n",
    "                    if edge_weight[u,v] != vertex_weight[v]\n",
    "                        is_vertex_weighted = false\n",
    "                        break\n",
    "                    end\n",
    "                end\n",
    "                if !is_vertex_weighted  break   end\n",
    "            end\n",
    "        end\n",
    "        if !is_vertex_weighted\n",
    "            println(\"the instance is not vertex weighted!\")\n",
    "        end\n",
    "        return new(g, vertex_weight, edge_weight, P, A, length(P), length(A), K, L, is_vertex_weighted)\n",
    "    end \n",
    "                            \n",
    "end"
   ]
  },
  {
   "cell_type": "code",
   "execution_count": 7,
   "metadata": {},
   "outputs": [
    {
     "data": {
      "text/plain": [
       "read_kep_file (generic function with 1 method)"
      ]
     },
     "execution_count": 7,
     "metadata": {},
     "output_type": "execute_result"
    }
   ],
   "source": [
    "function read_kep_file(wmd_file::AbstractString, dat_file::AbstractString)\n",
    "\n",
    "    #wmd_file_name = split(split(wmd_file, '/')[end], '.')[1]\n",
    "    #dat_file_name = split(split(dat_file, '/')[end], '.')[1]\n",
    "\n",
    "\twmd_file_name = first(splitext(last(splitpath(wmd_file))))\n",
    "\tdat_file_name = first(splitext(last(splitpath(dat_file))))\n",
    "\n",
    "    wmd_file_name == dat_file_name || throw(ArgumentError(\".wmd and .dat files do not correspond to the same dataset.\"))\n",
    "\tisfile(abspath(wmd_file)) || throw(ArgumentError(\"$(abspath(wmd_file)): file not found.\"))\n",
    "\tisfile(abspath(dat_file)) || throw(ArgumentError(\".dat file not found.\"))\n",
    "\n",
    "\t# Get the number of vertices and edges from the first line of wmd file\n",
    "    wmd_io = open(wmd_file, \"r\")\n",
    "\tsplitted_line = split(readline(wmd_io), ',')\n",
    "\tnb_vertices = parse(Int, splitted_line[1])\n",
    "\tnb_edges = parse(Int, splitted_line[2])\n",
    "\n",
    "    # Extract meta information from the .dat file\n",
    "    file = readdlm(dat_file, '\\n')\n",
    "\tis_altruist = falses(nb_vertices)\n",
    "\tind = 1\n",
    "    for line in file[2:end]\n",
    "        splitted_line = split(line, ',')\n",
    "        if Bool(parse(Int, splitted_line[7]))\n",
    "\t\t\tis_altruist[ind] = true\n",
    "\t\tend\n",
    "\t\tind += 1\n",
    "    end\n",
    "\n",
    "    # Extract the graph structure from the .wmd file\n",
    "    # skip next nb_vertices lines, which are redundant with the data contained in the .dat file\n",
    "    for i in 1:nb_vertices\n",
    "        readline(wmd_io)\n",
    "    end\n",
    "\n",
    "    # read the set of edges\n",
    "\tin_list = Vector{Vector{Int}}(undef, nb_vertices)\n",
    "\tout_list = Vector{Vector{Int}}(undef, nb_vertices)\n",
    "\tfor u in 1:nb_vertices\n",
    "\t\tin_list[u] = Vector{Int}()\n",
    "\t\tout_list[u] = Vector{Int}()\n",
    "\tend\n",
    "\tne = 0\n",
    "\tedge_weight = zeros(nb_vertices, nb_vertices)\n",
    "    while !eof(wmd_io)\n",
    "        splitted_line = split(readline(wmd_io), ',')\n",
    "        # /!\\ Pairs are numbered from 0 in the second part of the file\n",
    "        src = parse(Int, splitted_line[1]) + 1\n",
    "        dst = parse(Int, splitted_line[2]) + 1\n",
    "        weight = parse(Float64, splitted_line[3])\n",
    "\n",
    "        # do not add an edge that has an altruist as destination or that has a zero weight\n",
    "\t\tif !is_altruist[dst] && weight > 0.0\n",
    "\t\t\tne += 1\n",
    "\t\t\tpush!(out_list[src], dst)\n",
    "\t\t\tpush!(in_list[dst], src)\n",
    "\t\t\tedge_weight[src, dst] = weight\n",
    "\t\tend\n",
    "    end\n",
    "\tfor u in 1:nb_vertices\n",
    "\t\tsort!(out_list[u])\n",
    "\t\tsort!(in_list[u])\n",
    "\tend\n",
    "    return SimpleDiGraph(ne, out_list, in_list), edge_weight, is_altruist\n",
    "end"
   ]
  },
  {
   "cell_type": "code",
   "execution_count": 8,
   "metadata": {},
   "outputs": [
    {
     "data": {
      "text/plain": [
       "Instance({16, 47} directed simple Int64 graph, [1.0, 1.0, 1.0, 1.0, 1.0, 1.0, 1.0, 1.0, 1.0, 1.0, 1.0, 1.0, 1.0, 1.0, 1.0, 1.0], [0.0 0.0 … 0.0 1.0; 0.0 0.0 … 0.0 0.0; … ; 0.0 0.0 … 0.0 0.0; 0.0 0.0 … 0.0 0.0], [1, 2, 3, 4, 5, 6, 7, 8, 9, 10, 11, 12, 13, 14, 15, 16], Int64[], 16, 0, 3, 0, true)"
      ]
     },
     "execution_count": 8,
     "metadata": {},
     "output_type": "execute_result"
    }
   ],
   "source": [
    "data_folder = string(@__DIR__,\"/data\")\n",
    "instance_name = \"MD-00001-00000010\"\n",
    "filename = joinpath(data_folder, join([instance_name]))\n",
    "new_inst = Instance(filename, 3, 0)"
   ]
  },
  {
   "cell_type": "code",
   "execution_count": 9,
   "metadata": {},
   "outputs": [
    {
     "data": {
      "text/plain": [
       "\"The instance is represented by the simple directed graph: {16, 47} directed simple Int64 graph\""
      ]
     },
     "execution_count": 9,
     "metadata": {},
     "output_type": "execute_result"
    }
   ],
   "source": [
    "\"The instance is represented by the simple directed graph: $(new_inst.graph)\""
   ]
  },
  {
   "cell_type": "code",
   "execution_count": 10,
   "metadata": {},
   "outputs": [
    {
     "data": {
      "text/plain": [
       "\"Vertex weights are given as [1.0, 1.0, 1.0, 1.0, 1.0, 1.0, 1.0, 1.0, 1.0, 1.0, 1.0, 1.0, 1.0, 1.0, 1.0, 1.0]\""
      ]
     },
     "execution_count": 10,
     "metadata": {},
     "output_type": "execute_result"
    }
   ],
   "source": [
    "\"Vertex weights are given as $(new_inst.vertex_weight)\""
   ]
  },
  {
   "cell_type": "code",
   "execution_count": 11,
   "metadata": {},
   "outputs": [
    {
     "data": {
      "text/plain": [
       "0.0"
      ]
     },
     "execution_count": 11,
     "metadata": {},
     "output_type": "execute_result"
    }
   ],
   "source": [
    "new_inst.edge_weight[1,2]"
   ]
  },
  {
   "cell_type": "code",
   "execution_count": 41,
   "metadata": {},
   "outputs": [
    {
     "data": {
      "text/plain": [
       "16-element Array{Int64,1}:\n",
       "  1\n",
       "  2\n",
       "  3\n",
       "  4\n",
       "  5\n",
       "  6\n",
       "  7\n",
       "  8\n",
       "  9\n",
       " 10\n",
       " 11\n",
       " 12\n",
       " 13\n",
       " 14\n",
       " 15\n",
       " 16"
      ]
     },
     "execution_count": 41,
     "metadata": {},
     "output_type": "execute_result"
    }
   ],
   "source": [
    "new_inst.pairs"
   ]
  },
  {
   "cell_type": "code",
   "execution_count": 42,
   "metadata": {},
   "outputs": [
    {
     "data": {
      "text/plain": [
       "0-element Array{Int64,1}"
      ]
     },
     "execution_count": 42,
     "metadata": {},
     "output_type": "execute_result"
    }
   ],
   "source": [
    "new_inst.altruists"
   ]
  },
  {
   "cell_type": "code",
   "execution_count": 43,
   "metadata": {},
   "outputs": [
    {
     "data": {
      "text/plain": [
       "true"
      ]
     },
     "execution_count": 43,
     "metadata": {},
     "output_type": "execute_result"
    }
   ],
   "source": [
    "new_inst.is_vertex_weighted"
   ]
  },
  {
   "cell_type": "code",
   "execution_count": 24,
   "metadata": {},
   "outputs": [
    {
     "data": {
      "text/plain": [
       "\"This graph has 16 nodes\""
      ]
     },
     "execution_count": 24,
     "metadata": {},
     "output_type": "execute_result"
    }
   ],
   "source": [
    "\"This graph has $(nv(new_inst.graph)) nodes.\""
   ]
  },
  {
   "cell_type": "code",
   "execution_count": 25,
   "metadata": {},
   "outputs": [
    {
     "data": {
      "text/plain": [
       "\"This graph has 47 arcs\""
      ]
     },
     "execution_count": 25,
     "metadata": {},
     "output_type": "execute_result"
    }
   ],
   "source": [
    "\"This graph has $(ne(new_inst.graph)) arcs.\""
   ]
  },
  {
   "cell_type": "code",
   "execution_count": 31,
   "metadata": {},
   "outputs": [
    {
     "data": {
      "text/plain": [
       "\"The set of nodes is given by Base.OneTo(16). This is an iterable object containing all arcs.\""
      ]
     },
     "execution_count": 31,
     "metadata": {},
     "output_type": "execute_result"
    }
   ],
   "source": [
    "\"The set of nodes is given by $(vertices(new_inst.graph)). This is an iterable object containing all vertices.\""
   ]
  },
  {
   "cell_type": "code",
   "execution_count": 32,
   "metadata": {},
   "outputs": [
    {
     "name": "stdout",
     "output_type": "stream",
     "text": [
      "1\n",
      "2\n",
      "3\n",
      "4\n",
      "5\n",
      "6\n",
      "7\n",
      "8\n",
      "9\n",
      "10\n",
      "11\n",
      "12\n",
      "13\n",
      "14\n",
      "15\n",
      "16\n"
     ]
    }
   ],
   "source": [
    "#for v in vertices(new_inst.graph)\n",
    "#    println(v)\n",
    "#end"
   ]
  },
  {
   "cell_type": "code",
   "execution_count": 28,
   "metadata": {},
   "outputs": [
    {
     "data": {
      "text/plain": [
       "\"The set of arcs is given by SimpleEdgeIter 47\""
      ]
     },
     "execution_count": 28,
     "metadata": {},
     "output_type": "execute_result"
    }
   ],
   "source": [
    "\"The set of arcs is given by $(edges(new_inst.graph)). This is an iterable object containing all arcs.\""
   ]
  },
  {
   "cell_type": "code",
   "execution_count": 33,
   "metadata": {},
   "outputs": [
    {
     "name": "stdout",
     "output_type": "stream",
     "text": [
      "Edge 1 => 3 has 1 as its origin and 3 as its destination\n",
      "Edge 1 => 16 has 1 as its origin and 16 as its destination\n",
      "Edge 2 => 4 has 2 as its origin and 4 as its destination\n",
      "Edge 2 => 14 has 2 as its origin and 14 as its destination\n",
      "Edge 3 => 4 has 3 as its origin and 4 as its destination\n",
      "Edge 3 => 14 has 3 as its origin and 14 as its destination\n",
      "Edge 4 => 6 has 4 as its origin and 6 as its destination\n",
      "Edge 4 => 13 has 4 as its origin and 13 as its destination\n",
      "Edge 4 => 16 has 4 as its origin and 16 as its destination\n",
      "Edge 5 => 1 has 5 as its origin and 1 as its destination\n",
      "Edge 5 => 2 has 5 as its origin and 2 as its destination\n",
      "Edge 5 => 4 has 5 as its origin and 4 as its destination\n",
      "Edge 5 => 6 has 5 as its origin and 6 as its destination\n",
      "Edge 5 => 8 has 5 as its origin and 8 as its destination\n",
      "Edge 5 => 10 has 5 as its origin and 10 as its destination\n",
      "Edge 5 => 11 has 5 as its origin and 11 as its destination\n",
      "Edge 5 => 13 has 5 as its origin and 13 as its destination\n",
      "Edge 5 => 14 has 5 as its origin and 14 as its destination\n",
      "Edge 5 => 16 has 5 as its origin and 16 as its destination\n",
      "Edge 6 => 4 has 6 as its origin and 4 as its destination\n",
      "Edge 6 => 14 has 6 as its origin and 14 as its destination\n",
      "Edge 7 => 2 has 7 as its origin and 2 as its destination\n",
      "Edge 7 => 4 has 7 as its origin and 4 as its destination\n",
      "Edge 7 => 5 has 7 as its origin and 5 as its destination\n",
      "Edge 7 => 8 has 7 as its origin and 8 as its destination\n",
      "Edge 7 => 10 has 7 as its origin and 10 as its destination\n",
      "Edge 7 => 11 has 7 as its origin and 11 as its destination\n",
      "Edge 7 => 14 has 7 as its origin and 14 as its destination\n",
      "Edge 7 => 16 has 7 as its origin and 16 as its destination\n",
      "Edge 8 => 4 has 8 as its origin and 4 as its destination\n",
      "Edge 8 => 14 has 8 as its origin and 14 as its destination\n",
      "Edge 9 => 6 has 9 as its origin and 6 as its destination\n",
      "Edge 9 => 15 has 9 as its origin and 15 as its destination\n",
      "Edge 10 => 4 has 10 as its origin and 4 as its destination\n",
      "Edge 10 => 14 has 10 as its origin and 14 as its destination\n",
      "Edge 11 => 4 has 11 as its origin and 4 as its destination\n",
      "Edge 11 => 14 has 11 as its origin and 14 as its destination\n",
      "Edge 13 => 4 has 13 as its origin and 4 as its destination\n",
      "Edge 13 => 14 has 13 as its origin and 14 as its destination\n",
      "Edge 14 => 3 has 14 as its origin and 3 as its destination\n",
      "Edge 14 => 6 has 14 as its origin and 6 as its destination\n",
      "Edge 14 => 13 has 14 as its origin and 13 as its destination\n",
      "Edge 14 => 15 has 14 as its origin and 15 as its destination\n",
      "Edge 14 => 16 has 14 as its origin and 16 as its destination\n",
      "Edge 15 => 4 has 15 as its origin and 4 as its destination\n",
      "Edge 15 => 14 has 15 as its origin and 14 as its destination\n",
      "Edge 16 => 4 has 16 as its origin and 4 as its destination\n"
     ]
    }
   ],
   "source": [
    "#for e in edges(new_inst.graph)\n",
    "#    println(\"$e has $(src(e)) as its origin and $(dst(e)) as its destination\")\n",
    "#end"
   ]
  },
  {
   "cell_type": "code",
   "execution_count": null,
   "metadata": {},
   "outputs": [],
   "source": []
  }
 ],
 "metadata": {
  "kernelspec": {
   "display_name": "Julia 1.7.2",
   "language": "julia",
   "name": "julia-1.7"
  },
  "language_info": {
   "file_extension": ".jl",
   "mimetype": "application/julia",
   "name": "julia",
   "version": "1.7.2"
  }
 },
 "nbformat": 4,
 "nbformat_minor": 4
}
