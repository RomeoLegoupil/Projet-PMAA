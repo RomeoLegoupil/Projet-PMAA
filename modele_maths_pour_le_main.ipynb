{
 "cells": [
  {
   "cell_type": "markdown",
   "metadata": {},
   "source": [
    "## Résolution du problème via la génération de colonne\n",
    "\n",
    "Tout d'abord, on pose le sous-ensemble $C_L' \\subset C_L$ __Mettre le symbole inclus ou égale__\n",
    "\n",
    "Le problème maître restreint devient :\n",
    "\n",
    "\\begin{align}\n",
    "&max \\sum_{c \\in C_L'} w_c z_c \\\\\n",
    "&tel que :\\\\\n",
    "& \\sum_{c \\in C_L'(i)} z_c \\le 1, \\forall i \\in V \\\\\n",
    "& z \\in \\{0,1\\}^{|C_L'|} \\\\\n",
    "\\end{align}\n",
    "\n",
    "On note $z_c=1$ si le cycle $c$ est choisi.\n",
    "\n",
    "On réécrit la relaxation du problème en la mettant sous forme de minimisation :\n",
    "\n",
    "\\begin{align}\n",
    "&- min \\sum_{c \\in C_L'} w_c z_c \\\\\n",
    "&tel que :\\\\\n",
    "& \\sum_{c \\in C_L'(i)} z_c \\le 1, \\forall i \\in V \\\\\n",
    "& z \\in [0,1]^{|C_L'|} \\\\\n",
    "\\end{align}\n",
    "$\n",
    "\n",
    "\n",
    "Soit $\\overline{x}^c$, le pattern du cycle c, $w_{ij}$ le poids de l'arc ij.\n",
    "\n",
    "On peut réécrire le problème maître comme suit : (__à revoir__)\n",
    "\\begin{align}\n",
    "&- min \\sum_{c \\in C_L'}  z_c \\\\\n",
    "&tel que :\\\\\n",
    "& \\sum_{c \\in C_L'(i)} z_c \\le 1, \\forall i \\in V \\\\\n",
    "& z \\in [0,1]^{|C_L'|} \\\\\n",
    "\\end{align}\n",
    "\n",
    "Le pricing problème est le suivant : (__détailler comment on y arrive__)\n",
    "On note $\\lambda_i$, les variables duales du problèmes maitres restreints\n",
    "\\begin{align}\n",
    "&\\underset{c\\in C_L}{min}\\sum_{(i,j)\\in A}w_{ij}x_{ij} -\\sum_{i \\in V} \\lambda_i \\sum_{(i,j)\\in A}x_{ij} \\\\\n",
    "& t.q \\\\\n",
    "& \\sum_{j:(i,j)\\in A}x_{ij} = \\sum_{j:(i,j)\\in A}x_{ji} \\forall i \\in V \\ \\ (un \\ seul \\ échange d\\'organe \\ entre \\ 2 \\ personnes \\\\\n",
    "& \\sum_{j:(i,j)\\in A}x_{ij} \\leq 1 \\\\\n",
    "& \\sum_{(i,j)\\in A}x_{ij} \\leq L ( la \\ taille \\ du \\ cycle \\ est \\ inférieur \\ à \\ L\\\\\n",
    "\\end{align}\n"
   ]
  }
 ],
 "metadata": {
  "kernelspec": {
   "display_name": "Julia 1.7.2",
   "language": "julia",
   "name": "julia-1.7"
  },
  "language_info": {
   "file_extension": ".jl",
   "mimetype": "application/julia",
   "name": "julia",
   "version": "1.7.2"
  }
 },
 "nbformat": 4,
 "nbformat_minor": 4
}
