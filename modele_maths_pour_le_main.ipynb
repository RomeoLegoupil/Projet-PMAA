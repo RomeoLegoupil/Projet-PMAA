{
 "cells": [
  {
   "cell_type": "markdown",
   "metadata": {},
   "source": [
    "## Résolution du problème via la génération de colonne\n",
    "\n",
    "Tout d'abord, on pose le sous-ensemble $C_L' \\subset C_L$ __Mettre le symbole inclus ou égale__\n",
    "\n",
    "Le problème maître restreint devient :\n",
    "\n",
    "\\begin{align}\n",
    "&max \\sum_{l \\in  \\mathcal{L}} \\sum_{c \\in C_L'} |c|^l y^{lc} \\\\\n",
    "&tel que :\\\\\n",
    "& \\sum_{l \\in \\mathcal{L}} \\sum_{c \\in C^l:i \\in V^l(c)} y^{lc} \\le 1, \\forall i \\in V \\\\\n",
    "& y^{lc} \\in \\{0,1\\}, \\forall l \\in \\mathcal{L}, \\forall c \\in C^l \\\\\n",
    "\\end{align}\n",
    "\n",
    "On note $y^{lc}=1$ si le cycle $c$ est choisi dans l'ensemble des cycles l.\n",
    "\n",
    "On réécrit la relaxation du problème en la mettant sous forme de minimisation :\n",
    "\n",
    "\\begin{align}\n",
    "&min - \\sum_{l \\in  \\mathcal{L}} \\sum_{c \\in C_L'} |c|^l y^{lc} \\\\\n",
    "&tel que :\\\\\n",
    "& \\sum_{l \\in \\mathcal{L}} \\sum_{c \\in C^l:i \\in V^l(c)} y^{lc} \\le 1, \\forall i \\in V \\\\\n",
    "& y^{lc} \\in [0,1], \\forall l \\in \\mathcal{L}, \\forall c \\in C^l \\\\\n",
    "\\end{align}\n",
    "\n",
    "\n",
    "\n",
    "Soit $\\overline{x}^l_{ij} = 1$ si on prend l'arc (i,j) dans le cycle avec l'index l.\n",
    "\n",
    "On peut réécrire le problème maître comme suit : (__à revoir__)\n",
    "\\begin{align}\n",
    "&- min \\sum_{c \\in C_L'}  z_c \\\\\n",
    "&tel que :\\\\\n",
    "& \\sum_{c \\in C_L'(i)} z_c \\le 1, \\forall i \\in V \\\\\n",
    "& z \\in [0,1]^{|C_L'|} \\\\\n",
    "\\end{align}\n",
    "\n",
    "Le pricing problème est le suivant pour l'index l : (__détailler comment on y arrive__)\n",
    "On note $\\lambda_i$, les variables duales du problèmes maitres restreints\n",
    "\\begin{align}\n",
    "&\\underset{c\\in C_L}{min} - \\sum_{(i,j)\\in A^l}x_{ij}^l + \\sum_{j \\in V^l} \\lambda_j \\sum_{(i,j)\\in A^l}x_{ij}^l \\\\\n",
    "& t.q \\\\\n",
    "& \\sum_{j:(j,i)\\in A^l} x_{ji}^l = \\sum_{j:(i,j)\\in A^l}x_{ji}^l,  \\forall i \\in V^l \\ \\ (un \\ seul \\ échange d\\'organe \\ entre \\ 2 \\ personnes \\\\\n",
    "& \\sum_{i:(i,j)\\in A^l}x_{ij}^l \\leq 1,  \\forall j \\in V^l\\\\\n",
    "& \\sum_{i:(i,j)\\in A^l}x_{il}^l = 1\\\\\n",
    "& \\sum_{(i,j)\\in A^l}x_{ij}^l \\leq L ~ ( la \\ taille \\ du \\ cycle \\ est \\ inférieur \\ à \\ L)\\\\\n",
    "\\end{align}\n"
   ]
  },
  {
   "cell_type": "code",
   "execution_count": null,
   "metadata": {},
   "outputs": [],
   "source": []
  }
 ],
 "metadata": {
  "kernelspec": {
   "display_name": "Julia 1.7.2",
   "language": "julia",
   "name": "julia-1.7"
  },
  "language_info": {
   "file_extension": ".jl",
   "mimetype": "application/julia",
   "name": "julia",
   "version": "1.7.2"
  }
 },
 "nbformat": 4,
 "nbformat_minor": 4
}
