{
 "cells": [
  {
   "cell_type": "markdown",
   "metadata": {},
   "source": [
    "### Fonction qui implémente la résolution des sous-problèmes"
   ]
  },
  {
   "cell_type": "markdown",
   "metadata": {},
   "source": [
    "Les sous-problèmes s'écrivent ainsi :\n",
    "\n",
    "max $w_c - \\sum_{i \\in V} \\pi_i \\sum_{j : (i,j) \\in A} x_{ij}$\n",
    "\n",
    "tel que :\n",
    "- $\\sum_{(i,j) \\in A} x_{ij} \\le L$,\n",
    "- $\\sum_{i : (i,j) \\in A} x_{ij} = 1$,\n",
    "- $\\sum_{j : (i,j) \\in A} x_{ij} = 1$,\n",
    "- $x_{ij} \\in \\{0,1\\}$."
   ]
  },
  {
   "cell_type": "code",
   "execution_count": null,
   "metadata": {},
   "outputs": [],
   "source": [
    "function subproblem(π,node)\n",
    "    SP=Model(optimizer_with_attributes(() -> Gurobi.Optimizer(GUROBI_ENV)))\n",
    "    set_optimizer_attribute(SP, \"OutputFlag\", 0)\n",
    "    \n",
    "    # Variable\n",
    "    @variable(SP,x[i in 1:P,j in 1:P],Bin)\n",
    "    \n",
    "    # Contraintes\n",
    "    # Le cycle doit être de longueur maximale L\n",
    "    @constraint(SP,sum(x[i,j] for i in 1:P,j in 1:P if (new_inst.edge_weight[j,i]==1.0))<=L)\n",
    "    # Chaque sous-problème doit représenter un cycle\n",
    "    @constraint(SP,sum(x[i,j] for i in 1:P,j in 1:P if (new_inst.edge_weight[j,i]==1.0))<=L)\n",
    "    @constraint(SP,sum(x[i,j] for i in 1:P,j in 1:P if (new_inst.edge_weight[j,i]==1.0))<=L)\n",
    "    \n",
    "    # Objectif\n",
    "    @objective(SP,Max,sum(w[i,j] for i in 1:P,for j in 1:P)-sum(π(i)*x[i,j] for i in 1:P,for j in 1:P if (new_inst.edge_weight[j,i]==1.0)))\n",
    "\n",
    "    for (i,j) in tree[node].setzero\n",
    "        @constraint(SP,x[i,j]<=0)\n",
    "    end\n",
    "    \n",
    "    for (i,j) in tree[node].setone\n",
    "        @constraint(SP,x[i,j]>=1)\n",
    "    end\n",
    "\n",
    "    optimize!(SP)\n",
    "\n",
    "    # Si le sous-problème est résolu à l'optimalité, on retourne l'objectif et le motif optimal\n",
    "    if JuMP.termination_status(SP)==MOI.OPTIMAL\n",
    "        return JuMP.objective_value(SP),JuMP.value.(x)\n",
    "    # Sinon, le sous-problème est infaisable et on retourne Inf, []\n",
    "    else\n",
    "        return Inf,[]\n",
    "    end\n",
    "end"
   ]
  }
 ],
 "metadata": {
  "kernelspec": {
   "display_name": "Julia 1.7.2",
   "language": "julia",
   "name": "julia-1.7"
  },
  "language_info": {
   "file_extension": ".jl",
   "mimetype": "application/julia",
   "name": "julia",
   "version": "1.7.2"
  }
 },
 "nbformat": 4,
 "nbformat_minor": 4
}
