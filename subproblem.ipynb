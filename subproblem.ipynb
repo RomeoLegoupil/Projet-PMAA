{
 "cells": [
  {
   "cell_type": "markdown",
   "metadata": {},
   "source": [
    "### Fonction qui implémente la résolution des sous-problèmes"
   ]
  },
  {
   "cell_type": "markdown",
   "metadata": {},
   "source": [
    "Les sous-problèmes s'écrivent ainsi :\n",
    "\n",
    "max $w_c - \\sum_{i \\in V} \\pi_i \\sum_{j : (i,j) \\in A} x_{ij}$\n",
    "\n",
    "tel que :\n",
    "- $\\sum_{(i,j) \\in A} x_{ij} \\le L$,\n",
    "- $\\sum_{i : (i,j) \\in A} x_{ij} = 1$,\n",
    "- $\\sum_{j : (i,j) \\in A} x_{ij} = 1$,\n",
    "- $x_{ij} \\in \\{0,1\\}$."
   ]
  },
  {
   "cell_type": "code",
   "execution_count": 6,
   "metadata": {},
   "outputs": [
    {
     "ename": "LoadError",
     "evalue": "LoadError: UndefVarError: @variable not defined\nin expression starting at In[6]:20",
     "output_type": "error",
     "traceback": [
      "LoadError: UndefVarError: @variable not defined\nin expression starting at In[6]:20",
      "",
      "Stacktrace:",
      " [1] top-level scope",
      "   @ :0",
      " [2] eval",
      "   @ ./boot.jl:373 [inlined]",
      " [3] include_string(mapexpr::typeof(REPL.softscope), mod::Module, code::String, filename::String)",
      "   @ Base ./loading.jl:1196"
     ]
    }
   ],
   "source": [
    "function subproblem(l,π,node)\n",
    "    SP=Model(optimizer_with_attributes(() -> Gurobi.Optimizer(GUROBI_ENV)))\n",
    "    set_optimizer_attribute(SP, \"OutputFlag\", 0)\n",
    "    \n",
    "    Vl = Vector{Int}()\n",
    "    for i in (l:nv(new_inst.graph))\n",
    "        dli = dijkstra(new_inst.edge_weight,l)[i]\n",
    "        dil = dijkstra(new_inst.edge_weight,i)[l]\n",
    "        if ((dli + dil <= new_inst.max_cycle_length) && !(i in Vl))\n",
    "            push!(Vl,i)\n",
    "        end\n",
    "    end\n",
    "    \n",
    "    Al = zeros((16,16))\n",
    "    for i in 1:nv(new_inst.graph)\n",
    "        for j in 1:nv(new_inst.graph)\n",
    "            dli = dijkstra(new_inst.edge_weight,l)[i]\n",
    "            djl = dijkstra(new_inst.edge_weight,j)[l]\n",
    "            if (i in Vl ) && (j in Vl) && (dli + djl + 1 <= new_inst.max_cycle_length)\n",
    "                Al[i,j] = 1\n",
    "            end\n",
    "        end\n",
    "    end\n",
    "    Al[l,l]=0 # pas d'arc sur le même noeud\n",
    "    \n",
    "    # Variable\n",
    "    @variable(SP,x[i in 1:nv(new_inst.graph),j in 1:nv(new_inst.graph)],Bin)\n",
    "    \n",
    "    # Contraintes\n",
    "    # Le cycle doit être de longueur maximale L\n",
    "    #@constraint(SP,sum(x[i,j] for i in l:nv(new_inst.graph),j in l:nv(new_inst.graph) if (new_inst.edge_weight[i,j]==1.0))<=new_inst.max_cycle_length)\n",
    "    @constraint(SP,sum(x[i,j] for i in Vl, j in Vl if (Al[i,j]==1))<=new_inst.max_cycle_length)\n",
    "    # Chaque sous-problème doit représenter un cycle\n",
    "    #@constraint(SP,sum(x[i,l] for i in ((l+1):nv(new_inst.graph)) if (new_inst.edge_weight[i,l]==1.0))==1)\n",
    "    @constraint(SP,sum(x[i,l] for i in Vl if (Al[i,l]==1))==1)\n",
    "    #@constraint(SP,[j in (l+1):nv(new_inst.graph)],sum(x[i,j] for i in l:nv(new_inst.graph) if (new_inst.edge_weight[i,j]==1.0))<=1)\n",
    "    @constraint(SP,[j in Vl],sum(x[i,j] for i in Vl if (Al[i,j]==1 && j!=l))<=1)\n",
    "    #@constraint(SP,[i in l:nv(new_inst.graph)],sum(x[j,i] for j in l:nv(new_inst.graph) if (new_inst.edge_weight[j,i]==1.0))==sum(x[i,j] for j in l:nv(new_inst.graph) if (new_inst.edge_weight[i,j]==1.0)))\n",
    "    @constraint(SP,[i in Vl],sum(x[j,i] for j in Vl if (Al[j,i]==1))==sum(x[i,j] for j in 1:nv(new_inst.graph) if (Al[i,j]==1)))\n",
    "    # Objectif\n",
    "    #@objective(SP,Max,sum(x[i,j] for i in l:nv(new_inst.graph),j in l:nv(new_inst.graph) if (new_inst.edge_weight[i,j]==1.0))*(1-sum(π[i] for i in l:nv(new_inst.graph))))\n",
    "    @objective(SP,Max,sum(x[i,j] for i in Vl,j in Vl if (Al[i,j]==1))-sum(π[j]*sum(x[i,j] for i in Vl if (Al[i,j]==1)) for j in Vl))\n",
    "    \n",
    "    for (i,j) in tree[node].setzero\n",
    "        @constraint(SP,x[i,j]<=0)\n",
    "    end\n",
    "    \n",
    "    for (i,j) in tree[node].setone\n",
    "        @constraint(SP,x[i,j]>=1)\n",
    "    end\n",
    "\n",
    "    optimize!(SP)\n",
    "    \n",
    "    print(\"statut\",JuMP.termination_status(SP),\"\\n\")\n",
    "    \n",
    "    # Si le sous-problème est résolu à l'optimalité, on retourne l'objectif et le motif optimal\n",
    "    if JuMP.termination_status(SP)==MOI.OPTIMAL\n",
    "        solution=Vector{Int}()\n",
    "        for i in 1:nv(new_inst.graph)\n",
    "            val=0\n",
    "            for j in 1:nv(new_inst.graph)\n",
    "                val=val+JuMP.value.(x)[i,j]\n",
    "            end\n",
    "            push!(solution,val)\n",
    "        end\n",
    "        return JuMP.objective_value(SP),solution\n",
    "    # Sinon, le sous-problème est infaisable et on retourne Inf, []\n",
    "    else\n",
    "        return Inf,[]\n",
    "    end\n",
    "end"
   ]
  },
  {
   "cell_type": "code",
   "execution_count": 5,
   "metadata": {},
   "outputs": [
    {
     "data": {
      "text/plain": [
       "mindist (generic function with 2 methods)"
      ]
     },
     "execution_count": 5,
     "metadata": {},
     "output_type": "execute_result"
    }
   ],
   "source": [
    "function mindist(dist, sptset,graph)\n",
    "    min = Inf  # Initialize minimum distance for next node\n",
    "    minindex = 0\n",
    "    # Search smallest value nearest vertex not in the\n",
    "    # shortest path tree\n",
    "    for i in 1:size(graph)[1]\n",
    "        if dist[i] < min && sptset[i] == false\n",
    "            min = dist[i]\n",
    "            minindex = i\n",
    "        end\n",
    "    end\n",
    "    return minindex\n",
    "end"
   ]
  },
  {
   "cell_type": "code",
   "execution_count": null,
   "metadata": {},
   "outputs": [],
   "source": []
  },
  {
   "cell_type": "code",
   "execution_count": null,
   "metadata": {},
   "outputs": [],
   "source": [
    "function dijkstra(graph, initial_node)\n",
    "    TreeSet = [false for i in 1:size(graph)[1]] # step 1\n",
    "    dist = [Inf for i in 1:size(graph)[1]] # step 2\n",
    "    dist[initial_node] = 0\n",
    "\n",
    "    for i in 1:size(graph)[1]\n",
    "\n",
    "        # Pick the minimum distance vertex from\n",
    "        # the set of vertices not yet processed.\n",
    "        x = mindist(dist,TreeSet,graph) # step 3\n",
    "        \n",
    "        if x!=0\n",
    "            # step 3 -> relaxation procedure\n",
    "            # Update dist value of the adjacent vertices\n",
    "            # of the picked vertex only if the current\n",
    "            # distance is greater than new distance and\n",
    "            # the vertex in not in the shortest path tree\n",
    "            for j in 1:size(graph)[1]\n",
    "                if graph[x,j] > 0 && TreeSet[j] == false && dist[j] > dist[x] + graph[x,j]\n",
    "                    dist[j] = dist[x] + graph[x,j]\n",
    "                end\n",
    "            end\n",
    "\n",
    "            # Put the minimum distance vertex in the\n",
    "            # shortest path tree\n",
    "            TreeSet[x] = true # step 4\n",
    "        end\n",
    "    end\n",
    "    listeb=[j for (i , j) in enumerate(dist)]\n",
    "    return listeb\n",
    "end"
   ]
  }
 ],
 "metadata": {
  "kernelspec": {
   "display_name": "Julia 1.7.2",
   "language": "julia",
   "name": "julia-1.7"
  },
  "language_info": {
   "file_extension": ".jl",
   "mimetype": "application/julia",
   "name": "julia",
   "version": "1.7.2"
  }
 },
 "nbformat": 4,
 "nbformat_minor": 4
}
