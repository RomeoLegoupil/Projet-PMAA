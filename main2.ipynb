{
 "cells": [
  {
   "cell_type": "markdown",
   "metadata": {},
   "source": [
    "# Projet Julia : problème d'échange de reins avec un Branch and Price"
   ]
  },
  {
   "cell_type": "markdown",
   "metadata": {},
   "source": [
    "Roméo Legoupil, Matthieu Roux, Marie-Charlotte Fougère--Ballé, Marc Le Moing"
   ]
  },
  {
   "cell_type": "markdown",
   "metadata": {},
   "source": [
    "## Introduction"
   ]
  },
  {
   "cell_type": "markdown",
   "metadata": {},
   "source": [
    "La maladie rénale chronique est une des maladies graces qui menacent la vie de nombreuses personnes. Cette maladie est la onzième cause de décès dans le monde, environ 2,17% des décès annuels. Il existe deux traitements pour cette maladie : \n",
    "- la dialyse : elle est plus facilement accessible mais elle nécessite de nombreuses visites à l'hôpital et des dépenses considérables. Cela réduit donc la qualité de vie du patient.\n",
    "- la transplantation d'organe (de rein) : lorsqu'elle est réalisée avec succès, cela permet au patient de poursuivre sa vie sans aucun problème de santé.\n",
    "Le traitement privilégié est donc la transplantation d'organe.\n",
    "\n",
    "Normalement, ces transplantations sont réalisées à partir de donneurs décédés. Or, le nombre de patients  en attente d'un organe dépasse le nombre d'organes disponibles. Ainsi, il est maintenant possible de recevoir le rein d'un donneur vivant. Une transplantation rénale avec donneur vivant est réalisée entre un patient et un donner disposé à lui donner un de ses reins. Des tests de compatibilité doivent aussi être effectués entre le patient et le donneur avant que l'opération ait lieue. Lorsque le patient et le donneur sont incompatibles, les programmes d'échange de reins sont une solution alternative.\n",
    "\n",
    "Un programme d'échange de reins est un système qui contient un ensemble de paires patient-donneur incompatibles. On peut apparier un patient avec le donneur vivant d'un autre patient avec lequel il est compatible. Les cycles d'échanges peuvent donc être construits de telle sorte que le donneur de chaque paire du cycle donne son rein au patient de la paire suivante et que le donneur de la dernière paire donne son rein au patient de la première paire. Les cycles longs ne sont pas souhaitables en raison de contraintes éthiques et logistiques. Ainsi, une longueur maximale de cycle est très souvent imposée.\n",
    "\n",
    "Dans ce projet, nous allons donc trouver la meilleure façon de créer des cycles d'échange de reins de manière à maximiser le bien-être commun tout en respectant une longueur maximale de cycles d'échange. Ce problème est appelé problème d'échange de reins."
   ]
  },
  {
   "cell_type": "markdown",
   "metadata": {},
   "source": [
    "## Notations"
   ]
  },
  {
   "cell_type": "markdown",
   "metadata": {},
   "source": [
    "Le problème d'échange de reins, que l'on note KEP par la suite, peut être représenté par un simple graphe orienté G=(V,A). V représente les paires patient-donneur $(P_i,D_i)$ et A représente la compatibilité entre les paires. Ainsi, $(i,j) \\in A$ si le donneur $D_i$ et compatible avec le patient $P_j$.\n",
    "\n",
    "Un score de priorité ou d'utilité est attribué à chaque arc $(i,j)$. L'arc prendre la valeur 1 si toutes les greffes sont considérées comme égales. L'objectif est de maximiser le nombre de greffes réalisées. L'utilité de l'arc $(i,j)$ est notée par $w_{ij}$."
   ]
  },
  {
   "cell_type": "markdown",
   "metadata": {},
   "source": [
    "Soit $L$ la longueur maximale d'un cycle. On note $C_L$ l'ensemble des cycles de G tel que $|c| \\le L$ pour $c \\in C_L$. $C_L$ représente donc l'ensemble des cycles de G de longueur inférieure à $L$. On définit $C_L(i)$ l'ensemble des cycles qui contiennent le noeuds $i \\in V$ et $w_c=\\sum_{(i,j) \\in c} w_{ij}$ pour $c \\in C_L$.\n",
    "\n",
    "On a la variable $z_c$ pour $c \\in C_L(i)$ qui vaut :\n",
    "- 1 si le cycle $c$ est choisi,\n",
    "- 0 sinon.\n",
    "\n",
    "Voici une formulation du problème, appellée la formulation par cycles :\n",
    "\n",
    "max $\\sum_{c \\in C_L} w_c z_c$\n",
    "\n",
    "tel que :\n",
    "- $\\sum_{c \\in C_L(i)} z_c \\le 1, \\forall i \\in V$, (chaque paire est dans au plus un cycle)\n",
    "- $z \\in \\{0,1\\}^{|C_L|}$."
   ]
  },
  {
   "cell_type": "markdown",
   "metadata": {},
   "source": [
    "Comme cette formulation a un grand nombre de variables, le but du projet est d'obtenir une solution en utilisant l'algorithme du Branch and Price vu en cours. Pour cela, nous allons trouver le problème maitre, les sous problèmes et comment générer une colonne afin de générer l'algorithme de la génération de colonnes. De plus, pour implémenter le Branch and Price, nous allons devoir trouver et éliminer les solutions fractionnaires ainsi que trouver la façon de brancher."
   ]
  },
  {
   "cell_type": "markdown",
   "metadata": {},
   "source": [
    "## Importations et lecture des données"
   ]
  },
  {
   "cell_type": "markdown",
   "metadata": {},
   "source": [
    "### Importation des packages nécessaires"
   ]
  },
  {
   "cell_type": "markdown",
   "metadata": {},
   "source": [
    "On importe tous les packages nécessaires pour notre code."
   ]
  },
  {
   "cell_type": "code",
   "execution_count": 3,
   "metadata": {},
   "outputs": [
    {
     "name": "stdout",
     "output_type": "stream",
     "text": [
      "Set parameter Username\n",
      "Academic license - for non-commercial use only - expires 2022-07-04\n"
     ]
    },
    {
     "data": {
      "text/plain": [
       "1.0e-5"
      ]
     },
     "execution_count": 3,
     "metadata": {},
     "output_type": "execute_result"
    }
   ],
   "source": [
    "using JuMP \n",
    "using Gurobi\n",
    "using DelimitedFiles\n",
    "using NBInclude\n",
    "const GUROBI_ENV = Gurobi.Env()\n",
    "const ϵ = 0.00001\n"
   ]
  },
  {
   "cell_type": "code",
   "execution_count": 2,
   "metadata": {},
   "outputs": [],
   "source": [
    "using DelimitedFiles\n",
    "using Graphs, GraphPlot#, Compose, LightGraphs, PyPlot"
   ]
  },
  {
   "cell_type": "markdown",
   "metadata": {},
   "source": [
    "### Importation des fichiers code nécessaires"
   ]
  },
  {
   "cell_type": "markdown",
   "metadata": {},
   "source": [
    "On importe maintenant les fichiers code nécessaires pour notre projet. En effet, pour mieux organiser notre projet, nous avons séparé notre code en différents fichiers. Chaque fichier permet de coder une partie de notre projet. "
   ]
  },
  {
   "cell_type": "code",
   "execution_count": 2,
   "metadata": {},
   "outputs": [
    {
     "ename": "LoadError",
     "evalue": "LoadError: UndefVarError: @nbinclude not defined\nin expression starting at In[2]:1",
     "output_type": "error",
     "traceback": [
      "LoadError: UndefVarError: @nbinclude not defined\nin expression starting at In[2]:1",
      "",
      "Stacktrace:",
      " [1] top-level scope",
      "   @ :0",
      " [2] eval",
      "   @ .\\boot.jl:373 [inlined]",
      " [3] include_string(mapexpr::typeof(REPL.softscope), mod::Module, code::String, filename::String)",
      "   @ Base .\\loading.jl:1196"
     ]
    }
   ],
   "source": [
    "@nbinclude(\"dataparser.ipynb\")\n",
    "@nbinclude(\"master.ipynb\")\n",
    "@nbinclude(\"MIP.ipynb\")\n",
    "@nbinclude(\"node.ipynb\")\n",
    "@nbinclude(\"subproblem.ipynb\")\n",
    "@nbinclude(\"typedef.ipynb\")\n",
    "@nbinclude(\"branch_and_price.ipynb\")"
   ]
  },
  {
   "cell_type": "markdown",
   "metadata": {},
   "source": [
    "### Lecture des données"
   ]
  },
  {
   "cell_type": "code",
   "execution_count": 4,
   "metadata": {},
   "outputs": [
    {
     "data": {
      "text/plain": [
       "Instance({16, 47} directed simple Int64 graph, [1.0, 1.0, 1.0, 1.0, 1.0, 1.0, 1.0, 1.0, 1.0, 1.0, 1.0, 1.0, 1.0, 1.0, 1.0, 1.0], [0.0 0.0 … 0.0 1.0; 0.0 0.0 … 0.0 0.0; … ; 0.0 0.0 … 0.0 0.0; 0.0 0.0 … 0.0 0.0], [1, 2, 3, 4, 5, 6, 7, 8, 9, 10, 11, 12, 13, 14, 15, 16], Int64[], 16, 0, 3, 0, true)"
      ]
     },
     "execution_count": 4,
     "metadata": {},
     "output_type": "execute_result"
    }
   ],
   "source": [
    "data_folder = string(@__DIR__,\"/data\")\n",
    "instance_name = \"MD-00001-00000010\"\n",
    "filename = joinpath(data_folder, join([instance_name]))\n",
    "global new_inst = Instance(filename, 3, 0)"
   ]
  },
  {
   "cell_type": "code",
   "execution_count": 1,
   "metadata": {},
   "outputs": [
    {
     "ename": "LoadError",
     "evalue": "UndefVarError: new_inst not defined",
     "output_type": "error",
     "traceback": [
      "UndefVarError: new_inst not defined",
      "",
      "Stacktrace:",
      " [1] top-level scope",
      "   @ In[1]:4",
      " [2] eval",
      "   @ .\\boot.jl:373 [inlined]",
      " [3] include_string(mapexpr::typeof(REPL.softscope), mod::Module, code::String, filename::String)",
      "   @ Base .\\loading.jl:1196"
     ]
    }
   ],
   "source": [
    "x = [0, 10, 20, 30, 40, 40, 40, 40, 40, 30, 20, 10, 0, 0, 0, 0]\n",
    "y = [0, 0, 0, 0, 0, 10, 20, 30, 40, 40, 40, 40, 40, 30, 20, 10]\n",
    "\n",
    "nodelabel = new_inst.pairs\n",
    "gplot(g, nodelabel=nodelabel, x, y)"
   ]
  },
  {
   "cell_type": "code",
   "execution_count": 6,
   "metadata": {},
   "outputs": [
    {
     "data": {
      "text/plain": [
       "16-element Vector{Int64}:\n",
       "  1\n",
       "  2\n",
       "  3\n",
       "  4\n",
       "  5\n",
       "  6\n",
       "  7\n",
       "  8\n",
       "  9\n",
       " 10\n",
       " 11\n",
       " 12\n",
       " 13\n",
       " 14\n",
       " 15\n",
       " 16"
      ]
     },
     "execution_count": 6,
     "metadata": {},
     "output_type": "execute_result"
    }
   ],
   "source": [
    "g_optim=SimpleDiGraph\n",
    "for "
   ]
  },
  {
   "cell_type": "markdown",
   "metadata": {},
   "source": [
    "### Résolution du MIP"
   ]
  },
  {
   "cell_type": "markdown",
   "metadata": {},
   "source": [
    "Dans cette partie, nous allons résoudre le problème d'échange de reins sur les données que l'on stocke dans la variable $instance\\_name$. Pour cela, on appelle la fonction que l'on a créée dans un fichier code séparé."
   ]
  },
  {
   "cell_type": "code",
   "execution_count": 14,
   "metadata": {},
   "outputs": [
    {
     "name": "stdout",
     "output_type": "stream",
     "text": [
      "Set parameter Username\n",
      "Academic license - for non-commercial use only - expires 2022-07-04\n"
     ]
    },
    {
     "data": {
      "text/plain": [
       "(value = (4.0, [0.0 0.0 … 0.0 0.0; 0.0 0.0 … 0.0 0.0; … ; 0.0 0.0 … 0.0 0.0; 0.0 0.0 … 0.0 0.0]), time = 13.6793017, bytes = 1290064618, gctime = 0.6600094, gcstats = Base.GC_Diff(1290064618, 1, 0, 22009451, 5631, 0, 660009400, 17, 0))"
      ]
     },
     "execution_count": 14,
     "metadata": {},
     "output_type": "execute_result"
    }
   ],
   "source": [
    "result = @timed solve_MIP()"
   ]
  },
  {
   "cell_type": "code",
   "execution_count": 28,
   "metadata": {},
   "outputs": [
    {
     "name": "stdout",
     "output_type": "stream",
     "text": [
      "La solution optimale est : 4.0\n",
      "La matrice des solutions est : \n",
      "\n",
      "ligne 1 : [0.0, 0.0, 0.0, 0.0, 0.0, 0.0, 0.0, 0.0, 0.0, 0.0, 0.0, 0.0, 0.0, 0.0, 0.0, 0.0]\n",
      "\n",
      "ligne 2 : [0.0, 0.0, 0.0, 0.0, 0.0, 0.0, 0.0, 0.0, 0.0, 0.0, 0.0, 0.0, 0.0, 0.0, 0.0, 0.0]\n",
      "\n",
      "ligne 3 : [0.0, 0.0, 0.0, -0.0, 0.0, 0.0, 0.0, 0.0, 0.0, 0.0, 0.0, 0.0, 0.0, 1.0, 0.0, 0.0]\n",
      "\n",
      "ligne 4 : [0.0, 0.0, 0.0, 0.0, 0.0, 1.0, 0.0, 0.0, 0.0, 0.0, 0.0, 0.0, 0.0, 0.0, 0.0, 0.0]\n",
      "\n",
      "ligne 5 : [0.0, 0.0, 0.0, 0.0, 0.0, 0.0, 0.0, 0.0, 0.0, 0.0, 0.0, 0.0, 0.0, 0.0, 0.0, 0.0]\n",
      "\n",
      "ligne 6 : [0.0, 0.0, 0.0, 1.0, 0.0, 0.0, 0.0, 0.0, 0.0, 0.0, 0.0, 0.0, 0.0, 0.0, 0.0, 0.0]\n",
      "\n",
      "ligne 7 : [0.0, 0.0, 0.0, 0.0, 0.0, 0.0, 0.0, 0.0, 0.0, 0.0, 0.0, 0.0, 0.0, 0.0, 0.0, 0.0]\n",
      "\n",
      "ligne 8 : [0.0, 0.0, 0.0, 0.0, 0.0, 0.0, 0.0, 0.0, 0.0, 0.0, 0.0, 0.0, 0.0, 0.0, 0.0, 0.0]\n",
      "\n",
      "ligne 9 : [0.0, 0.0, 0.0, 0.0, 0.0, 0.0, 0.0, 0.0, 0.0, 0.0, 0.0, 0.0, 0.0, 0.0, 0.0, 0.0]\n",
      "\n",
      "ligne 10 : [0.0, 0.0, 0.0, 0.0, 0.0, 0.0, 0.0, 0.0, 0.0, 0.0, 0.0, 0.0, 0.0, 0.0, 0.0, 0.0]\n",
      "\n",
      "ligne 11 : [0.0, 0.0, 0.0, 0.0, 0.0, 0.0, 0.0, 0.0, 0.0, 0.0, 0.0, 0.0, 0.0, 0.0, 0.0, 0.0]\n",
      "\n",
      "ligne 12 : [0.0, 0.0, 0.0, 0.0, 0.0, 0.0, 0.0, 0.0, 0.0, 0.0, 0.0, 0.0, 0.0, 0.0, 0.0, 0.0]\n",
      "\n",
      "ligne 13 : [0.0, 0.0, 0.0, 0.0, 0.0, 0.0, 0.0, 0.0, 0.0, 0.0, 0.0, 0.0, 0.0, 0.0, 0.0, 0.0]\n",
      "\n",
      "ligne 14 : [0.0, 0.0, 1.0, 0.0, 0.0, -0.0, 0.0, 0.0, 0.0, 0.0, 0.0, 0.0, -0.0, 0.0, 0.0, -0.0]\n",
      "\n",
      "ligne 15 : [0.0, 0.0, 0.0, 0.0, 0.0, 0.0, 0.0, 0.0, 0.0, 0.0, 0.0, 0.0, 0.0, 0.0, 0.0, 0.0]\n",
      "\n",
      "ligne 16 : [0.0, 0.0, 0.0, 0.0, 0.0, 0.0, 0.0, 0.0, 0.0, 0.0, 0.0, 0.0, 0.0, 0.0, 0.0, 0.0]\n",
      "\n"
     ]
    }
   ],
   "source": [
    "println(\"La solution optimale est : \",result[1][1])\n",
    "println(\"La matrice des solutions est : \\n\")\n",
    "for i in 1:nv(new_inst.graph)\n",
    "    println(\"ligne \",i,\" : \", result[1][2][i,:], \"\\n\")\n",
    "end"
   ]
  },
  {
   "cell_type": "code",
   "execution_count": null,
   "metadata": {},
   "outputs": [],
   "source": []
  },
  {
   "cell_type": "markdown",
   "metadata": {},
   "source": [
    "On a un échange entre le 3 et le 14 ainsi qu'entre le 6 et le 4. Il est étonnant que le cycle 4-6-5 n'ait pas été pris."
   ]
  },
  {
   "cell_type": "markdown",
   "metadata": {},
   "source": [
    "## Branch and price\n",
    "### Génération de colonne\n",
    "\n",
    "Afin d'éviter la symétrie, on raisonne en cycle désagrégé. \n",
    "\n",
    "Soit L, le nombre maximum de cycle (on peut le considérer égal au nombre de sommet)\n",
    "Soit $1\\leq l \\leq L$\n",
    "\n",
    "- $V^l=\\{i\\in V, i \\geq l, d^l_{il}+d^l_{li} \\leq k\\}$, l'ensemble des sommets dont le numéro est supérieur à $l$, et dont la distance aller-retour de $i$ à $l$ est inférieure à k.\n",
    "- $A^l=\\{(i,j)\\in A, d^l_{li}+d^l_{jl}+1 \\leq k \\}$, l'ensemble des arêtes reliant les sommets de $V^l$ et permettant de former un cycle passant par i et j de taille inférieure à k.\n",
    "\n",
    "On note ainsi le sous graphe $G^l=(V^l,A^l)$\n",
    "\n",
    "On note également $C^l$, l'ensemble des cycles du sous-graphe $G^l$, qui ont une taille inférieure à k et qui inclue le sommet l.\n",
    "\n",
    "On pose $y^{lc}=1$ si le cycle $c$ de $C^l$ est choisi, $y^{lc}=0$ sinon.\n",
    "\n",
    "$V^l(c)$ est l'ensemble des sommets du cycle $c \\in C^l$, $|c|^l=|V^l(c)|$ est la taille du cycle c (car les arêtes ont un poids de 1).\n",
    "\n",
    "\n",
    "En posant le sous-ensemble $C_L' \\subseteq C_L$ \n",
    "\n",
    "Le problème maître restreint est :\n",
    "\n",
    "\\begin{align}\n",
    "&max \\sum_{l \\in  \\mathcal{L}} \\sum_{c \\in C_L'} |c|^l y^{lc} \\\\\n",
    "&tel que :\\\\\n",
    "& \\sum_{l \\in \\mathcal{L}} \\sum_{c \\in C^l:i \\in V^l(c)} y^{lc} \\le 1, \\forall i \\in V \\\\\n",
    "& y^{lc} \\in \\{0,1\\}, \\forall l \\in \\mathcal{L}, \\forall c \\in C^l \\\\\n",
    "\\end{align}\n",
    "\n",
    "On note $y^{lc}=1$ si le cycle $c$ est choisi dans l'ensemble des cycles $l$.\n",
    "\n",
    "\n",
    "Soit $\\overline{x}^{lc}_{ij} = 1$ si on prend l'arc (i,j) dans le cycle $c$ avec l'index $l$. On peut réécrire le problème maître comme :\n",
    "\n",
    "\\begin{align}\n",
    "&max \\sum_{l \\in  \\mathcal{L}} \\sum_{c \\in C_L'} \\sum_{(i,j) \\in A^l} x^{lc}_{ij} y^{lc} \\\\\n",
    "&tel que :\\\\\n",
    "& \\sum_{l \\in \\mathcal{L}} \\sum_{c \\in C^l:i \\in V^l(c)} \\sum_{(i,j) \\in A^l} x^{lc}_{ij}  y^{lc} \\le 1, \\forall i \\in V  \\ \\ \\ \\ [\\lambda_i \\geq 0] \\\\\n",
    "& y^{lc} \\in [0,1], \\forall l \\in \\mathcal{L}, \\forall c \\in C^l \\\\\n",
    "\\end{align}\n",
    "\n",
    "Afin de générer des colonnes, il faut résoudre les $L$ sous problèmes corespondant à chaque sous-graphe $G^l$.\n",
    "\n",
    "\n",
    "\n",
    "Soit $x^l_{ij} = \\sum_{c\\in C^L}x^{lc}_{ij}y^{lc}$\n",
    "\n",
    "Le sous problème $Sp(l)$ pour le sommet l est le suivant : \n",
    "\n",
    " \n",
    "\\begin{align}\n",
    "&\\underset{c\\in C_L}{min}  \\sum_{(i,j)\\in A^l}x_{ij}^l - \\sum_{j \\in V^l} \\lambda_j \\sum_{(i,j)\\in A^l}x_{ij}^l \\\\\n",
    "& t.q \\\\\n",
    "& \\sum_{j:(j,i)\\in A^l} x_{ji}^l = \\sum_{j:(i,j)\\in A^l}x_{ji}^l,  \\forall i \\in V^l \\ \\ (un \\ seul \\ échange d\\'organe \\ entre \\ 2 \\ personnes \\\\\n",
    "& \\sum_{i:(i,j)\\in A^l}x_{ij}^l \\leq 1,  \\forall j \\in V^l\\\\\n",
    "& \\sum_{i:(i,j)\\in A^l}x_{il}^l = 1\\\\\n",
    "& \\sum_{(i,j)\\in A^l}x_{ij}^l \\leq L ~ ( la \\ taille \\ du \\ cycle \\ est \\ inférieur \\ à \\ L)\\\\\n",
    "\\end{align}\n",
    "\n",
    "### Pricing\n",
    "Pour le branchement, on considère les contraintes comme facile. Pour éliminer les cycles fractionnaires, nos contraintes de branchement pour le sous-problèmes $l$ sont :\n",
    "\n",
    "Soit $(i_1,j_1) \\in A^l$, $i_1 \\ne j_1$, \n",
    "\n",
    "Pour le noeud gauche : $x^l_{i_1j_1} \\leq 0$, l'ensemble réalisable du sous-problème est $\\{x^l_{ij} \\in \\{0,1\\}, x^l_{i_1j_1} \\geq 0, (i,j) \\in A^l \\}$\n",
    "\n",
    "Pour le noeud droite : $x^l_{i_1j_1} \\geq 1$, l'ensemble réalisable du sous-problème est $\\{x^l_{ij} \\in \\{0,1\\}, x^l_{i_1j_1} \\leq 0, (i,j) \\in A^l \\}$\n",
    "\n",
    "On atteint l'optimalité quand tous les couts réduits des sous-problèmes sont négatifs, c'est à dire :\n",
    "\n",
    "$$ \n",
    "\\forall l \\in L, \\ \\sum_{(i,j)\\in A^l}x_{ij}^l - \\sum_{j \\in V^l} \\lambda_j \\sum_{(i,j)\\in A^l}x_{ij}^l\n",
    "$$\n"
   ]
  },
  {
   "cell_type": "code",
   "execution_count": 25,
   "metadata": {},
   "outputs": [
    {
     "name": "stdout",
     "output_type": "stream",
     "text": [
      "[[[0, 0, 0, 0, 0, 0, 0, 0, 0, 0, 0, 0, 0, 0, 0, 0, 0]], [[0, 0, 0, 0, 0, 0, 0, 0, 0, 0, 0, 0, 0, 0, 0, 0, 0]], [[0, 0, 0, 0, 0, 0, 0, 0, 0, 0, 0, 0, 0, 0, 0, 0, 0]], [[0, 0, 0, 0, 0, 0, 0, 0, 0, 0, 0, 0, 0, 0, 0, 0, 0]], [[0, 0, 0, 0, 0, 0, 0, 0, 0, 0, 0, 0, 0, 0, 0, 0, 0]], [[0, 0, 0, 0, 0, 0, 0, 0, 0, 0, 0, 0, 0, 0, 0, 0, 0]], [[0, 0, 0, 0, 0, 0, 0, 0, 0, 0, 0, 0, 0, 0, 0, 0, 0]], [[0, 0, 0, 0, 0, 0, 0, 0, 0, 0, 0, 0, 0, 0, 0, 0, 0]], [[0, 0, 0, 0, 0, 0, 0, 0, 0, 0, 0, 0, 0, 0, 0, 0, 0]], [[0, 0, 0, 0, 0, 0, 0, 0, 0, 0, 0, 0, 0, 0, 0, 0, 0]], [[0, 0, 0, 0, 0, 0, 0, 0, 0, 0, 0, 0, 0, 0, 0, 0, 0]], [[0, 0, 0, 0, 0, 0, 0, 0, 0, 0, 0, 0, 0, 0, 0, 0, 0]], [[0, 0, 0, 0, 0, 0, 0, 0, 0, 0, 0, 0, 0, 0, 0, 0, 0]], [[0, 0, 0, 0, 0, 0, 0, 0, 0, 0, 0, 0, 0, 0, 0, 0, 0]], [[0, 0, 0, 0, 0, 0, 0, 0, 0, 0, 0, 0, 0, 0, 0, 0, 0]], [[0, 0, 0, 0, 0, 0, 0, 0, 0, 0, 0, 0, 0, 0, 0, 0, 0]]]\n"
     ]
    }
   ],
   "source": [
    "println(column_pool)"
   ]
  },
  {
   "cell_type": "markdown",
   "metadata": {},
   "source": [
    "Commment on fait pour passer au noeud suivant, avoir un bazar qui rend une vrai borne inf"
   ]
  },
  {
   "cell_type": "code",
   "execution_count": 24,
   "metadata": {},
   "outputs": [
    {
     "name": "stdout",
     "output_type": "stream",
     "text": [
      "Liste actuelle des noeuds à traiter:[1]\n",
      "\u001b[93m Noeud traité : 1 \u001b[00m\n",
      "Variables mises à 0 sont :Tuple[]\n",
      "Variables mises à 1 sont :Tuple[]\n",
      "node_pool super [[[0, 0, 0, 0, 0, 0, 0, 0, 0, 0, 0, 0, 0, 0, 0, 0, 0]], [[0, 0, 0, 0, 0, 0, 0, 0, 0, 0, 0, 0, 0, 0, 0, 0, 0]], [[0, 0, 0, 0, 0, 0, 0, 0, 0, 0, 0, 0, 0, 0, 0, 0, 0]], [[0, 0, 0, 0, 0, 0, 0, 0, 0, 0, 0, 0, 0, 0, 0, 0, 0]], [[0, 0, 0, 0, 0, 0, 0, 0, 0, 0, 0, 0, 0, 0, 0, 0, 0]], [[0, 0, 0, 0, 0, 0, 0, 0, 0, 0, 0, 0, 0, 0, 0, 0, 0]], [[0, 0, 0, 0, 0, 0, 0, 0, 0, 0, 0, 0, 0, 0, 0, 0, 0]], [[0, 0, 0, 0, 0, 0, 0, 0, 0, 0, 0, 0, 0, 0, 0, 0, 0]], [[0, 0, 0, 0, 0, 0, 0, 0, 0, 0, 0, 0, 0, 0, 0, 0, 0]], [[0, 0, 0, 0, 0, 0, 0, 0, 0, 0, 0, 0, 0, 0, 0, 0, 0]], [[0, 0, 0, 0, 0, 0, 0, 0, 0, 0, 0, 0, 0, 0, 0, 0, 0]], [[0, 0, 0, 0, 0, 0, 0, 0, 0, 0, 0, 0, 0, 0, 0, 0, 0]], [[0, 0, 0, 0, 0, 0, 0, 0, 0, 0, 0, 0, 0, 0, 0, 0, 0]], [[0, 0, 0, 0, 0, 0, 0, 0, 0, 0, 0, 0, 0, 0, 0, 0, 0]], [[0, 0, 0, 0, 0, 0, 0, 0, 0, 0, 0, 0, 0, 0, 0, 0, 0]], [[0, 0, 0, 0, 0, 0, 0, 0, 0, 0, 0, 0, 0, 0, 0, 0, 0]]]\n",
      "node_pool beginning[[[0, 0, 0, 0, 0, 0, 0, 0, 0, 0, 0, 0, 0, 0, 0, 0, 0]], [[0, 0, 0, 0, 0, 0, 0, 0, 0, 0, 0, 0, 0, 0, 0, 0, 0]], [[0, 0, 0, 0, 0, 0, 0, 0, 0, 0, 0, 0, 0, 0, 0, 0, 0]], [[0, 0, 0, 0, 0, 0, 0, 0, 0, 0, 0, 0, 0, 0, 0, 0, 0]], [[0, 0, 0, 0, 0, 0, 0, 0, 0, 0, 0, 0, 0, 0, 0, 0, 0]], [[0, 0, 0, 0, 0, 0, 0, 0, 0, 0, 0, 0, 0, 0, 0, 0, 0]], [[0, 0, 0, 0, 0, 0, 0, 0, 0, 0, 0, 0, 0, 0, 0, 0, 0]], [[0, 0, 0, 0, 0, 0, 0, 0, 0, 0, 0, 0, 0, 0, 0, 0, 0]], [[0, 0, 0, 0, 0, 0, 0, 0, 0, 0, 0, 0, 0, 0, 0, 0, 0]], [[0, 0, 0, 0, 0, 0, 0, 0, 0, 0, 0, 0, 0, 0, 0, 0, 0]], [[0, 0, 0, 0, 0, 0, 0, 0, 0, 0, 0, 0, 0, 0, 0, 0, 0]], [[0, 0, 0, 0, 0, 0, 0, 0, 0, 0, 0, 0, 0, 0, 0, 0, 0]], [[0, 0, 0, 0, 0, 0, 0, 0, 0, 0, 0, 0, 0, 0, 0, 0, 0]], [[0, 0, 0, 0, 0, 0, 0, 0, 0, 0, 0, 0, 0, 0, 0, 0, 0]], [[0, 0, 0, 0, 0, 0, 0, 0, 0, 0, 0, 0, 0, 0, 0, 0, 0]], [[0, 0, 0, 0, 0, 0, 0, 0, 0, 0, 0, 0, 0, 0, 0, 0, 0]]]\n",
      "value-0.0\n",
      "solution_beginning \n",
      "Vector{Float32}[[0.0], [0.0], [0.0], [0.0], [0.0], [0.0], [0.0], [0.0], [0.0], [0.0], [0.0], [0.0], [0.0], [0.0], [0.0], [0.0]]\n",
      "\u001b[32m Solution admissible avec valeur -0.0 trouvée \u001b[00m\n",
      "node lb beginning-0.0statutINFEASIBLE\n",
      "spob : Inf\n",
      "column : Any[]\n",
      "\u001b[31m Noeud infaisable \u001b[00m\n",
      "xAny[]taille0inf-Infsup-0.0LB=-Inf,UB=-0.0\n",
      "Liste actuelle des noeuds à traiter:Int64[]\n"
     ]
    },
    {
     "data": {
      "text/plain": [
       "(value = nothing, time = 0.6005027, bytes = 30299135, gctime = 0.0, gcstats = Base.GC_Diff(30299135, 0, 0, 500410, 192, 0, 0, 0, 0))"
      ]
     },
     "execution_count": 24,
     "metadata": {},
     "output_type": "execute_result"
    }
   ],
   "source": [
    "result = @timed solve_BP()"
   ]
  },
  {
   "cell_type": "code",
   "execution_count": 23,
   "metadata": {},
   "outputs": [
    {
     "name": "stdout",
     "output_type": "stream",
     "text": [
      "Nombre de paires : 16\n",
      "Nombre d'altruistes : 0\n",
      "1\n",
      "2\n",
      "3\n",
      "4\n",
      "5\n",
      "6\n",
      "7\n",
      "8\n",
      "9\n",
      "10\n",
      "11\n",
      "12\n",
      "13\n",
      "14\n",
      "15\n",
      "16\n",
      "Edge 1 => 3 -- has 1 as its origin and 3 as its destination\n",
      "Edge 1 => 16 -- has 1 as its origin and 16 as its destination\n",
      "Edge 2 => 4 -- has 2 as its origin and 4 as its destination\n",
      "Edge 2 => 14 -- has 2 as its origin and 14 as its destination\n",
      "Edge 3 => 4 -- has 3 as its origin and 4 as its destination\n",
      "Edge 3 => 14 -- has 3 as its origin and 14 as its destination\n",
      "Edge 4 => 6 -- has 4 as its origin and 6 as its destination\n",
      "Edge 4 => 13 -- has 4 as its origin and 13 as its destination\n",
      "Edge 4 => 16 -- has 4 as its origin and 16 as its destination\n",
      "Edge 5 => 1 -- has 5 as its origin and 1 as its destination\n",
      "Edge 5 => 2 -- has 5 as its origin and 2 as its destination\n",
      "Edge 5 => 4 -- has 5 as its origin and 4 as its destination\n",
      "Edge 5 => 6 -- has 5 as its origin and 6 as its destination\n",
      "Edge 5 => 8 -- has 5 as its origin and 8 as its destination\n",
      "Edge 5 => 10 -- has 5 as its origin and 10 as its destination\n",
      "Edge 5 => 11 -- has 5 as its origin and 11 as its destination\n",
      "Edge 5 => 13 -- has 5 as its origin and 13 as its destination\n",
      "Edge 5 => 14 -- has 5 as its origin and 14 as its destination\n",
      "Edge 5 => 16 -- has 5 as its origin and 16 as its destination\n",
      "Edge 6 => 4 -- has 6 as its origin and 4 as its destination\n",
      "Edge 6 => 14 -- has 6 as its origin and 14 as its destination\n",
      "Edge 7 => 2 -- has 7 as its origin and 2 as its destination\n",
      "Edge 7 => 4 -- has 7 as its origin and 4 as its destination\n",
      "Edge 7 => 5 -- has 7 as its origin and 5 as its destination\n",
      "Edge 7 => 8 -- has 7 as its origin and 8 as its destination\n",
      "Edge 7 => 10 -- has 7 as its origin and 10 as its destination\n",
      "Edge 7 => 11 -- has 7 as its origin and 11 as its destination\n",
      "Edge 7 => 14 -- has 7 as its origin and 14 as its destination\n",
      "Edge 7 => 16 -- has 7 as its origin and 16 as its destination\n",
      "Edge 8 => 4 -- has 8 as its origin and 4 as its destination\n",
      "Edge 8 => 14 -- has 8 as its origin and 14 as its destination\n",
      "Edge 9 => 6 -- has 9 as its origin and 6 as its destination\n",
      "Edge 9 => 15 -- has 9 as its origin and 15 as its destination\n",
      "Edge 10 => 4 -- has 10 as its origin and 4 as its destination\n",
      "Edge 10 => 14 -- has 10 as its origin and 14 as its destination\n",
      "Edge 11 => 4 -- has 11 as its origin and 4 as its destination\n",
      "Edge 11 => 14 -- has 11 as its origin and 14 as its destination\n",
      "Edge 13 => 4 -- has 13 as its origin and 4 as its destination\n",
      "Edge 13 => 14 -- has 13 as its origin and 14 as its destination\n",
      "Edge 14 => 3 -- has 14 as its origin and 3 as its destination\n",
      "Edge 14 => 6 -- has 14 as its origin and 6 as its destination\n",
      "Edge 14 => 13 -- has 14 as its origin and 13 as its destination\n",
      "Edge 14 => 15 -- has 14 as its origin and 15 as its destination\n",
      "Edge 14 => 16 -- has 14 as its origin and 16 as its destination\n",
      "Edge 15 => 4 -- has 15 as its origin and 4 as its destination\n",
      "Edge 15 => 14 -- has 15 as its origin and 14 as its destination\n",
      "Edge 16 => 4 -- has 16 as its origin and 4 as its destination\n"
     ]
    },
    {
     "ename": "LoadError",
     "evalue": "LoadError: syntax: incomplete: \"function\" at C:\\Users\\matth\\Documents\\4GM\\Projet-PMAA\\node.ipynb:In[7]:1 requires end\nin expression starting at C:\\Users\\matth\\Documents\\4GM\\Projet-PMAA\\node.ipynb:In[7]:1",
     "output_type": "error",
     "traceback": [
      "LoadError: syntax: incomplete: \"function\" at C:\\Users\\matth\\Documents\\4GM\\Projet-PMAA\\node.ipynb:In[7]:1 requires end\nin expression starting at C:\\Users\\matth\\Documents\\4GM\\Projet-PMAA\\node.ipynb:In[7]:1",
      "",
      "Stacktrace:",
      "  [1] top-level scope",
      "    @ C:\\Users\\matth\\Documents\\4GM\\Projet-PMAA\\node.ipynb:In[7]:1",
      "  [2] eval",
      "    @ .\\boot.jl:373 [inlined]",
      "  [3] include_string(mapexpr::typeof(identity), mod::Module, code::String, filename::String)",
      "    @ Base .\\loading.jl:1196",
      "  [4] include_string",
      "    @ .\\loading.jl:1206 [inlined]",
      "  [5] my_include_string(m::Module, s::String, path::String, prev::Nothing, softscope::Bool)",
      "    @ NBInclude C:\\Users\\matth\\.julia\\packages\\NBInclude\\MxvbF\\src\\NBInclude.jl:30",
      "  [6] #2",
      "    @ C:\\Users\\matth\\.julia\\packages\\NBInclude\\MxvbF\\src\\NBInclude.jl:93 [inlined]",
      "  [7] task_local_storage(body::NBInclude.var\"#2#3\"{Bool, Module, String, Nothing, String, String}, key::Symbol, val::Bool)",
      "    @ Base .\\task.jl:281",
      "  [8] nbinclude(m::Module, path::String; renumber::Bool, counters::UnitRange{Int64}, regex::Regex, anshook::typeof(identity), softscope::Bool)",
      "    @ NBInclude C:\\Users\\matth\\.julia\\packages\\NBInclude\\MxvbF\\src\\NBInclude.jl:92",
      "  [9] nbinclude(m::Module, path::String)",
      "    @ NBInclude C:\\Users\\matth\\.julia\\packages\\NBInclude\\MxvbF\\src\\NBInclude.jl:65",
      " [10] top-level scope",
      "    @ In[23]:4",
      " [11] eval",
      "    @ .\\boot.jl:373 [inlined]",
      " [12] include_string(mapexpr::typeof(REPL.softscope), mod::Module, code::String, filename::String)",
      "    @ Base .\\loading.jl:1196"
     ]
    }
   ],
   "source": [
    "@nbinclude(\"dataparser.ipynb\")\n",
    "@nbinclude(\"master.ipynb\")\n",
    "@nbinclude(\"MIP.ipynb\")\n",
    "@nbinclude(\"node.ipynb\")\n",
    "@nbinclude(\"subproblem.ipynb\")\n",
    "@nbinclude(\"typedef.ipynb\")\n",
    "@nbinclude(\"branch_and_price.ipynb\")"
   ]
  },
  {
   "cell_type": "code",
   "execution_count": 76,
   "metadata": {},
   "outputs": [
    {
     "data": {
      "text/plain": [
       "mindist (generic function with 2 methods)"
      ]
     },
     "execution_count": 76,
     "metadata": {},
     "output_type": "execute_result"
    }
   ],
   "source": [
    "function mindist(dist, sptset,graph)\n",
    "    min = Inf  # Initialize minimum distance for next node\n",
    "    minindex = 0\n",
    "    # Search smallest value nearest vertex not in the\n",
    "    # shortest path tree\n",
    "    for i in 1:size(graph)[1]\n",
    "        if dist[i] < min && sptset[i] == false\n",
    "            min = dist[i]\n",
    "            minindex = i\n",
    "        end\n",
    "    end\n",
    "    return minindex\n",
    "end"
   ]
  },
  {
   "cell_type": "code",
   "execution_count": 77,
   "metadata": {},
   "outputs": [
    {
     "data": {
      "text/plain": [
       "dijkstra (generic function with 1 method)"
      ]
     },
     "execution_count": 77,
     "metadata": {},
     "output_type": "execute_result"
    }
   ],
   "source": [
    "function dijkstra(graph, initial_node)\n",
    "    TreeSet = [false for i in 1:size(graph)[1]] # step 1\n",
    "    dist = [Inf for i in 1:size(graph)[1]] # step 2\n",
    "    dist[initial_node] = 0\n",
    "\n",
    "    for i in 1:size(graph)[1]\n",
    "\n",
    "        # Pick the minimum distance vertex from\n",
    "        # the set of vertices not yet processed.\n",
    "        x = mindist(dist,TreeSet,graph) # step 3\n",
    "        \n",
    "        if x!=0\n",
    "            # step 3 -> relaxation procedure\n",
    "            # Update dist value of the adjacent vertices\n",
    "            # of the picked vertex only if the current\n",
    "            # distance is greater than new distance and\n",
    "            # the vertex in not in the shortest path tree\n",
    "            for j in 1:size(graph)[1]\n",
    "                if graph[x,j] > 0 && TreeSet[j] == false && dist[j] > dist[x] + graph[x,j]\n",
    "                    dist[j] = dist[x] + graph[x,j]\n",
    "                end\n",
    "            end\n",
    "\n",
    "            # Put the minimum distance vertex in the\n",
    "            # shortest path tree\n",
    "            TreeSet[x] = true # step 4\n",
    "        end\n",
    "    end\n",
    "    listeb=[j for (i , j) in enumerate(dist)]\n",
    "    return listeb\n",
    "end"
   ]
  },
  {
   "cell_type": "code",
   "execution_count": 78,
   "metadata": {},
   "outputs": [
    {
     "data": {
      "text/plain": [
       "16-element Vector{Float64}:\n",
       "  0.0\n",
       " Inf\n",
       "  1.0\n",
       "  2.0\n",
       " Inf\n",
       "  3.0\n",
       " Inf\n",
       " Inf\n",
       " Inf\n",
       " Inf\n",
       " Inf\n",
       " Inf\n",
       "  3.0\n",
       "  2.0\n",
       "  3.0\n",
       "  1.0"
      ]
     },
     "execution_count": 78,
     "metadata": {},
     "output_type": "execute_result"
    }
   ],
   "source": [
    "dijkstra((new_inst.edge_weight),1)"
   ]
  },
  {
   "cell_type": "code",
   "execution_count": null,
   "metadata": {},
   "outputs": [],
   "source": []
  }
 ],
 "metadata": {
  "kernelspec": {
   "display_name": "Julia 1.7.2",
   "language": "julia",
   "name": "julia-1.7"
  },
  "language_info": {
   "file_extension": ".jl",
   "mimetype": "application/julia",
   "name": "julia",
   "version": "1.7.2"
  }
 },
 "nbformat": 4,
 "nbformat_minor": 4
}
