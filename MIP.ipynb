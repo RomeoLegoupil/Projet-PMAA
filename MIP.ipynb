{
 "cells": [
  {
   "cell_type": "markdown",
   "metadata": {},
   "source": [
    "### Fonction qui implémente la résolution du MIP"
   ]
  },
  {
   "cell_type": "markdown",
   "metadata": {},
   "source": [
    "On considère les variables suivantes :\n",
    "- $x_{i,j} = \\{1,0\\} = 1$ si le patient de la paire j a un rein du donneur de la paire i,\n",
    "- $w_{i,j} = \\{1,0\\} = 1, ~ \\forall (i,j) \\in A$, où A est l'ensemble des arcs du graphe.\n",
    "\n",
    "Notre MIP est le suivant :\n",
    "\n",
    "max $\\sum_{i,j : (i,j) \\in A} x_{ij} w_{ij}$\n",
    "\n",
    "tel que :\n",
    "- $\\sum_{j : (j,i) \\in A} x_{ji} = \\sum_{j : (i,j) \\in A} x_{ij}$, $\\forall i \\in V$,\n",
    "- $\\sum_{j : (i,j) \\in A} x_{ij} \\le 1$, $\\forall i \\in V$,\n",
    "\n",
    "Voici l'implémentation de notre MIP :"
   ]
  },
  {
   "cell_type": "code",
   "execution_count": 9,
   "metadata": {},
   "outputs": [
    {
     "ename": "LoadError",
     "evalue": "LoadError: UndefVarError: @variable not defined\nin expression starting at In[9]:10",
     "output_type": "error",
     "traceback": [
      "LoadError: UndefVarError: @variable not defined\nin expression starting at In[9]:10",
      "",
      "Stacktrace:",
      " [1] top-level scope",
      "   @ :0",
      " [2] eval",
      "   @ ./boot.jl:373 [inlined]",
      " [3] include_string(mapexpr::typeof(REPL.softscope), mod::Module, code::String, filename::String)",
      "   @ Base ./loading.jl:1196"
     ]
    }
   ],
   "source": [
    "function solve_MIP()\n",
    "    modele = Model(Gurobi.Optimizer)\n",
    "    #modele = Model(GLPK.Optimizer)\n",
    "    \n",
    "    # Nombre de paires de donneurs/patients, nombre de noeuds du graphe :\n",
    "    P=size(new_inst.pairs)[1]\n",
    "    # Longueur maximale d'un cycle\n",
    "    L=new_inst.max_cycle_length\n",
    "    \n",
    "    # Variable : indique si le patient de la paire j a un rein du donneur de la paire i\n",
    "    @variable(modele,x[i in 1:P,j in 1:P],Bin)\n",
    "    # Variable : indique si l'arc (i,j) appartient au graphe ou non\n",
    "    @variable(modele,w[i in 1:P,j in 1:P],Bin)\n",
    "    \n",
    "    # Contrainte : le patient i recoit un rein ssi le donneur i donne un rein\n",
    "    @constraint(modele,recoit[i in 1:P],sum(x[j,i] for j in 1:P if (new_inst.edge_weight[j,i]==1.0))==sum(x[i,j] for j in 1:P if (new_inst.edge_weight[i,j]==1.0)))\n",
    "    # Contrainte : un donneur peut donner seulement un rein\n",
    "    @constraint(modele,capacite[i in 1:P],sum(x[i,j] for j in 1:P if (new_inst.edge_weight[i,j]==1.0))<=1)\n",
    "    # Contrainte : on veut des cycles plus petits que L\n",
    "    \n",
    "    # Objectif : maximiser le nombre total de transplantations\n",
    "    @objective(modele,Max,sum(w[i,j]*x[i,j] for i in 1:P,j in 1:P if (new_inst.edge_weight[i,j]==1.0)))\n",
    "    \n",
    "    set_optimizer_attribute(modele, MOI.Silent(), true)\n",
    "    optimize!(modele)\n",
    "\n",
    "    return JuMP.objective_value(modele),JuMP.value.(x)\n",
    "end"
   ]
  }
 ],
 "metadata": {
  "kernelspec": {
   "display_name": "Julia 1.7.2",
   "language": "julia",
   "name": "julia-1.7"
  },
  "language_info": {
   "file_extension": ".jl",
   "mimetype": "application/julia",
   "name": "julia",
   "version": "1.7.2"
  }
 },
 "nbformat": 4,
 "nbformat_minor": 2
}
