{
 "cells": [
  {
   "cell_type": "code",
   "execution_count": null,
   "metadata": {},
   "outputs": [],
   "source": [
    "function solve_MIP()\n",
    "    GAP = Model(Gurobi.Optimizer)\n",
    "    #GAP = Model(GLPK.Optimizer)\n",
    "    @variable(GAP,x[m in 1:D.m,j in 1:D.n],Bin)\n",
    "    \n",
    "    # Constraint: Each job should be assigned to a machine\n",
    "    @constraint(GAP,treatjob[j in 1:D.n],sum(x[m,j] for m in 1:D.m)==1)\n",
    "    # Constraint: The capacity of each machine should be respected\n",
    "    @constraint(GAP,machinecap[m in 1:D.m],sum(D.t[m,j]x[m,j] for j in 1:D.n)<=D.Tmax[m])\n",
    "    # Objective: Minimize the total cost of assigning jobs to machines\n",
    "    @objective(GAP,Min,sum(D.c[m,j]x[m,j] for m in 1:D.m,j in 1:D.n))\n",
    "    \n",
    "    optimize!(GAP)\n",
    "\n",
    "    return JuMP.objective_value(GAP),JuMP.value.(x)\n",
    "end"
   ]
  }
 ],
 "metadata": {
  "kernelspec": {
   "display_name": "Julia 1.7.2",
   "language": "julia",
   "name": "julia-1.7"
  },
  "language_info": {
   "file_extension": ".jl",
   "mimetype": "application/julia",
   "name": "julia",
   "version": "1.7.2"
  }
 },
 "nbformat": 4,
 "nbformat_minor": 2
}
