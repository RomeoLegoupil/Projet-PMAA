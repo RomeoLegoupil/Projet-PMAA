{
 "cells": [
  {
   "cell_type": "code",
   "execution_count": 1,
   "metadata": {},
   "outputs": [
    {
     "name": "stdout",
     "output_type": "stream",
     "text": [
      "Set parameter Username\n",
      "Academic license - for non-commercial use only - expires 2023-02-17\n"
     ]
    },
    {
     "data": {
      "text/plain": [
       "1.0e-5"
      ]
     },
     "execution_count": 1,
     "metadata": {},
     "output_type": "execute_result"
    }
   ],
   "source": [
    "using JuMP \n",
    "using Gurobi\n",
    "using DelimitedFiles\n",
    "using NBInclude\n",
    "const GUROBI_ENV = Gurobi.Env()\n",
    "const ϵ = 0.00001"
   ]
  },
  {
   "cell_type": "code",
   "execution_count": 3,
   "metadata": {},
   "outputs": [
    {
     "name": "stdout",
     "output_type": "stream",
     "text": [
      "1\n",
      "2\n",
      "3\n",
      "4\n",
      "5\n",
      "6\n",
      "7\n",
      "8\n",
      "9\n",
      "10\n",
      "11\n",
      "12\n",
      "13\n",
      "14\n",
      "15\n",
      "16\n",
      "Edge 1 => 3 has 1 as its origin and 3 as its destination\n",
      "Edge 1 => 16 has 1 as its origin and 16 as its destination\n",
      "Edge 2 => 4 has 2 as its origin and 4 as its destination\n",
      "Edge 2 => 14 has 2 as its origin and 14 as its destination\n",
      "Edge 3 => 4 has 3 as its origin and 4 as its destination\n",
      "Edge 3 => 14 has 3 as its origin and 14 as its destination\n",
      "Edge 4 => 6 has 4 as its origin and 6 as its destination\n",
      "Edge 4 => 13 has 4 as its origin and 13 as its destination\n",
      "Edge 4 => 16 has 4 as its origin and 16 as its destination\n",
      "Edge 5 => 1 has 5 as its origin and 1 as its destination\n",
      "Edge 5 => 2 has 5 as its origin and 2 as its destination\n",
      "Edge 5 => 4 has 5 as its origin and 4 as its destination\n",
      "Edge 5 => 6 has 5 as its origin and 6 as its destination\n",
      "Edge 5 => 8 has 5 as its origin and 8 as its destination\n",
      "Edge 5 => 10 has 5 as its origin and 10 as its destination\n",
      "Edge 5 => 11 has 5 as its origin and 11 as its destination\n",
      "Edge 5 => 13 has 5 as its origin and 13 as its destination\n",
      "Edge 5 => 14 has 5 as its origin and 14 as its destination\n",
      "Edge 5 => 16 has 5 as its origin and 16 as its destination\n",
      "Edge 6 => 4 has 6 as its origin and 4 as its destination\n",
      "Edge 6 => 14 has 6 as its origin and 14 as its destination\n",
      "Edge 7 => 2 has 7 as its origin and 2 as its destination\n",
      "Edge 7 => 4 has 7 as its origin and 4 as its destination\n",
      "Edge 7 => 5 has 7 as its origin and 5 as its destination\n",
      "Edge 7 => 8 has 7 as its origin and 8 as its destination\n",
      "Edge 7 => 10 has 7 as its origin and 10 as its destination\n",
      "Edge 7 => 11 has 7 as its origin and 11 as its destination\n",
      "Edge 7 => 14 has 7 as its origin and 14 as its destination\n",
      "Edge 7 => 16 has 7 as its origin and 16 as its destination\n",
      "Edge 8 => 4 has 8 as its origin and 4 as its destination\n",
      "Edge 8 => 14 has 8 as its origin and 14 as its destination\n",
      "Edge 9 => 6 has 9 as its origin and 6 as its destination\n",
      "Edge 9 => 15 has 9 as its origin and 15 as its destination\n",
      "Edge 10 => 4 has 10 as its origin and 4 as its destination\n",
      "Edge 10 => 14 has 10 as its origin and 14 as its destination\n",
      "Edge 11 => 4 has 11 as its origin and 4 as its destination\n",
      "Edge 11 => 14 has 11 as its origin and 14 as its destination\n",
      "Edge 13 => 4 has 13 as its origin and 4 as its destination\n",
      "Edge 13 => 14 has 13 as its origin and 14 as its destination\n",
      "Edge 14 => 3 has 14 as its origin and 3 as its destination\n",
      "Edge 14 => 6 has 14 as its origin and 6 as its destination\n",
      "Edge 14 => 13 has 14 as its origin and 13 as its destination\n",
      "Edge 14 => 15 has 14 as its origin and 15 as its destination\n",
      "Edge 14 => 16 has 14 as its origin and 16 as its destination\n",
      "Edge 15 => 4 has 15 as its origin and 4 as its destination\n",
      "Edge 15 => 14 has 15 as its origin and 14 as its destination\n",
      "Edge 16 => 4 has 16 as its origin and 4 as its destination\n"
     ]
    },
    {
     "name": "stderr",
     "output_type": "stream",
     "text": [
      "\u001b[32m\u001b[1m    Updating\u001b[22m\u001b[39m registry at `~/.julia/registries/General.toml`\n",
      "\u001b[32m\u001b[1m   Resolving\u001b[22m\u001b[39m package versions...\n",
      "\u001b[32m\u001b[1m  No Changes\u001b[22m\u001b[39m to `~/.julia/environments/v1.7/Project.toml`\n",
      "\u001b[32m\u001b[1m  No Changes\u001b[22m\u001b[39m to `~/.julia/environments/v1.7/Manifest.toml`\n"
     ]
    },
    {
     "data": {
      "text/plain": [
       "solve_MIP (generic function with 1 method)"
      ]
     },
     "execution_count": 3,
     "metadata": {},
     "output_type": "execute_result"
    }
   ],
   "source": [
    "@nbinclude(\"dataparser.ipynb\")\n",
    "@nbinclude(\"mip.ipynb\")"
   ]
  },
  {
   "cell_type": "markdown",
   "metadata": {},
   "source": [
    "### Lecture des données"
   ]
  },
  {
   "cell_type": "code",
   "execution_count": 4,
   "metadata": {},
   "outputs": [
    {
     "data": {
      "text/plain": [
       "Instance({16, 47} directed simple Int64 graph, [1.0, 1.0, 1.0, 1.0, 1.0, 1.0, 1.0, 1.0, 1.0, 1.0, 1.0, 1.0, 1.0, 1.0, 1.0, 1.0], [0.0 0.0 … 0.0 1.0; 0.0 0.0 … 0.0 0.0; … ; 0.0 0.0 … 0.0 0.0; 0.0 0.0 … 0.0 0.0], [1, 2, 3, 4, 5, 6, 7, 8, 9, 10, 11, 12, 13, 14, 15, 16], Int64[], 16, 0, 3, 0, true)"
      ]
     },
     "execution_count": 4,
     "metadata": {},
     "output_type": "execute_result"
    }
   ],
   "source": [
    "data_folder = string(@__DIR__,\"/data\")\n",
    "instance_name = \"MD-00001-00000010\"\n",
    "filename = joinpath(data_folder, join([instance_name]))\n",
    "new_inst = Instance(filename, 3, 0)"
   ]
  },
  {
   "cell_type": "markdown",
   "metadata": {},
   "source": [
    "### Résolution du MIP"
   ]
  },
  {
   "cell_type": "code",
   "execution_count": null,
   "metadata": {},
   "outputs": [],
   "source": [
    "result = @timed solve_MIP()"
   ]
  },
  {
   "cell_type": "markdown",
   "metadata": {},
   "source": [
    "### Branch and price\n",
    "#### Génération de colonne\n",
    "On relaxe la formulation du problème comme suit :\n",
    "\n",
    "$$ \n",
    "\\underset{c\\in \\mathcal{C}^\\mathcal{l}}{max}\\ \\  w_c z_c \\\\\n",
    "tel \\ que \\ \\  \n",
    "\\sum_{c\\in \\mathcal{C}^l(i)} z_c \\leq 1 \\ \\ \\ \\forall i \\in V\\\\\n",
    "z \\in [0,1]^{\\mathcal{C}^l}$$\n",
    "\n",
    "L'ensemble des cycles réalisables peut être très long à énumérer. On commence donc avec un ensemble initial $\\mathcal{C}_1^l \\subset \\mathcal{C}^l $\n",
    "La solution obtenue avec cette ensemble initial nous donne une borne primale que l'on note $z_p$.\n",
    "\n",
    "De plus, notre solution final doit être binaire. On réalise donc un arbre de branchement. A la, la contrainte de branchement est $\\{z_i \\geq 1\\} \\ \\ (respectvement \\ \\ \\{z_i \\leq 0\\}$\n",
    "\n",
    "Ainsi, dans l'arbre de branchement, notre problème maître restreint est :\n",
    "\n",
    "\n",
    "$$ \n",
    "\\underset{c\\in \\mathcal{C_k}^\\mathcal{l}}{max}\\ \\  w_c z_c \\\\\n",
    "tel \\ que \\ \\  \n",
    "\\sum_{c\\in \\mathcal{C_k}^l(i)} z_c \\leq 1 \\ \\ \\ \\forall i \\in V\\\\\n",
    "z \\in [0,1]^{\\mathcal{C_k}^l} \\bigcap \\{z_c \\geq 1\\} \\ \\ (respectvement \\ \\ \\{z_c \\leq 0\\} $$\n"
   ]
  },
  {
   "cell_type": "markdown",
   "metadata": {},
   "source": []
  }
 ],
 "metadata": {
  "kernelspec": {
   "display_name": "Julia 1.7.2",
   "language": "julia",
   "name": "julia-1.7"
  },
  "language_info": {
   "file_extension": ".jl",
   "mimetype": "application/julia",
   "name": "julia",
   "version": "1.7.2"
  }
 },
 "nbformat": 4,
 "nbformat_minor": 4
}
