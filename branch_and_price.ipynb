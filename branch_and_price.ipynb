{
 "cells": [
  {
   "cell_type": "markdown",
   "metadata": {},
   "source": [
    "### Fonction qui permet de retourner la variable sur laquelle on branche"
   ]
  },
  {
   "cell_type": "code",
   "execution_count": 1,
   "metadata": {},
   "outputs": [
    {
     "data": {
      "text/plain": [
       "calculate_branching (generic function with 1 method)"
      ]
     },
     "execution_count": 1,
     "metadata": {},
     "output_type": "execute_result"
    }
   ],
   "source": [
    "function calculate_branching(x)\n",
    "    donneur = 0\n",
    "    receveur = 0\n",
    "    found = false\n",
    "    for i in 1:nv(new_inst.graph)\n",
    "        for j in 1:nv(new_inst.graph)\n",
    "            if (mod(x[i][j],1) > ϵ)\n",
    "                donneur = i\n",
    "                receveur = j\n",
    "                found=true\n",
    "                break\n",
    "            end\n",
    "        end\n",
    "        found && break\n",
    "    end\n",
    "    return (donneur,receveur)\n",
    "end"
   ]
  },
  {
   "cell_type": "markdown",
   "metadata": {},
   "source": [
    "### Fonction qui résout le Branch and Price"
   ]
  },
  {
   "cell_type": "code",
   "execution_count": 2,
   "metadata": {},
   "outputs": [
    {
     "data": {
      "text/plain": [
       "solve_BP (generic function with 1 method)"
      ]
     },
     "execution_count": 2,
     "metadata": {},
     "output_type": "execute_result"
    }
   ],
   "source": [
    "function solve_BP()\n",
    "    global column_pool=Array{Array{Array{Int,1},1},1}(undef,nv(new_inst.graph))\n",
    "    # C'est un vecteur à deux dimensions\n",
    "    # column_pool contient tous les pattern\n",
    "    # column_pool[i] est un pattern\n",
    "    # Les patterns sont tels que :\n",
    "    #   - le premier élément est la contribution à la valeur objective\n",
    "    #   - les éléments 2 à n+1 sont les éléments 0 et 1 qui dépend si la paire patient-donneur est dans le cycle\n",
    "    #   - le dernier élément contribue à la contrainte de convexité, il y a seulement une paire impliquée dans tous les cycles choisi\n",
    "    for l in 1:nv(new_inst.graph)\n",
    "        column_pool[l]=Array{Array{Int,1},1}()\n",
    "        push!(column_pool[l],vcat(-10000,ones(Int,nv(new_inst.graph)))) # motif artificiel\n",
    "        push!(column_pool[l],vcat(0,zeros(Int,nv(new_inst.graph)))) # motif vide\n",
    "    end\n",
    "    # Initialisation des bornes inférieure et supérieure\n",
    "    global UB = Inf  # ou la valeur d'une solution heuristique \n",
    "    global LB = -Inf # ou la valeur de la relaxation initiale\n",
    "    \n",
    "    global Queue = Vector{Int}() # les noeuds que l'on doit traiter, vecteur d'entiers\n",
    "    global tree = Vector{TreeNode}() # l'arbre de Branch and Price, vecteur de TreeNode\n",
    "    \n",
    "    # Initialisation du Branch and Brice\n",
    "    push!(tree,TreeNode(0,[],-Inf,[],[]))   \n",
    "    push!(Queue,1) # indices des noeuds à traiter\n",
    "\n",
    "    # Algorithme de Branch and Price\n",
    "    while length(Queue)>0\n",
    "        println(\"Liste actuelle des noeuds à traiter:\", Queue)\n",
    "        \n",
    "        # Traitement du dernier noeud\n",
    "        current = Queue[end]\n",
    "        \n",
    "        # Résolution du problème maître restreint\n",
    "        x = Process_Node(current) # retourne la solution optimale ou [] si le problème est infaisable\n",
    "        \n",
    "        # Si le noeud est faisable et que la borne inférieure est intéressante, on branche\n",
    "        if size(x,1)!=0 && tree[current].lb <= UB\n",
    "            # On cherche la variable de branchement\n",
    "            (donneur,receveur) = calculate_branching(x) # retourne la paire tel que z_c est fractionnaire ou 0\n",
    "            \n",
    "            # Ajout des noeuds enfants si on a une variable de branchement\n",
    "            if (donneur,receveur)!=(0,0)\n",
    "                println(\"Deux noeuds sont créés en branchant sur la variable x[$donneur,$receveur]\")\n",
    "                # Noeud 1\n",
    "                push!(tree,TreeNode(current,[],tree[current].lb,vcat((donneur,receveur),tree[current].setzero),tree[current].setone))\n",
    "                push!(tree[current].children,length(tree))\n",
    "                push!(Queue,length(tree))\n",
    "                # Noeud 2\n",
    "                push!(tree,TreeNode(current,[],tree[current].lb,tree[current].setzero,vcat((donneur,receveur),tree[current].setone)))\n",
    "                push!(tree[current].children,length(tree))\n",
    "                push!(Queue,length(tree))\n",
    "            else\n",
    "                println(\"La solution optimale de la relaxation était entière\")\n",
    "                println(\"Solution faisable avec valeur $(tree[current].lb) trouvée\")\n",
    "            end\n",
    "        else\n",
    "            println(\"Le noeud n'est pas faisable ou il est élagué\")\n",
    "        end\n",
    "            \n",
    "        # Caclul de la borne inférieure globale\n",
    "        global LB = tree[current].lb\n",
    "        for i in Queue\n",
    "            if tree[i].lb <= LB\n",
    "                global LB=tree[i].lb\n",
    "            end\n",
    "        end\n",
    "        \n",
    "        # Affichage des bornes supérieure et inférieure actuelle\n",
    "        println(\"LB=$LB,UB=$UB\")\n",
    "        \n",
    "        # Suppression du noeud qui a été traité\n",
    "        deleteat!(Queue,findfirst(x -> x == current, Queue))\n",
    "        \n",
    "        # Suppression des noeuds avec une borne non intéressante\n",
    "        deleteat!(Queue,unique(nodestobedeleted))\n",
    "        \n",
    "        # Arrêt de l'algorithme si l'optimalité est presque atteinte\n",
    "        if (2*(UB-LB)/(UB+LB))<=ϵ\n",
    "            break\n",
    "        end\n",
    "    end\n",
    "end"
   ]
  },
  {
   "cell_type": "code",
   "execution_count": null,
   "metadata": {},
   "outputs": [],
   "source": []
  }
 ],
 "metadata": {
  "kernelspec": {
   "display_name": "Julia 1.7.2",
   "language": "julia",
   "name": "julia-1.7"
  },
  "language_info": {
   "file_extension": ".jl",
   "mimetype": "application/julia",
   "name": "julia",
   "version": "1.7.2"
  }
 },
 "nbformat": 4,
 "nbformat_minor": 4
}
