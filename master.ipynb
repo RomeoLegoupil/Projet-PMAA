{
 "cells": [
  {
   "cell_type": "markdown",
   "metadata": {},
   "source": [
    "### Fonction qui implémente le problème maître restreint (de la génération de colonnes)"
   ]
  },
  {
   "cell_type": "markdown",
   "metadata": {},
   "source": [
    "Le problème maître restreint, qui est la reformulation Dantzig-Wolfe du MIP est :\n",
    "\n",
    "max $\\sum_{c \\in C_L'} w_c z_c$\n",
    "\n",
    "tel que :\n",
    "- $\\sum_{c \\in C_L'(i)} z_c \\le 1, \\forall i \\in V$,\n",
    "- $z \\in [0,1]^{|C_L'|}$,\n",
    "\n",
    "où $C_L' \\subset C_L$.\n",
    "\n",
    "On note $z_c=\\{0,1\\}=1$ si le cycle $c$ est choisi.\n",
    "\n",
    "On réécrit le problème en le mettant sous forme de minimisation :\n",
    "\n",
    "min $- \\sum_{c \\in C_L'} w_c z_c$\n",
    "\n",
    "tel que :\n",
    "- $\\sum_{c \\in C_L'(i)} z_c \\le 1, \\forall i \\in V$,\n",
    "- $z \\in [0,1]^{|C_L'|}$,\n",
    "\n",
    "où $C_L' \\subset C_L$."
   ]
  },
  {
   "cell_type": "code",
   "execution_count": 2,
   "metadata": {},
   "outputs": [
    {
     "ename": "LoadError",
     "evalue": "LoadError: UndefVarError: @variable not defined\nin expression starting at In[2]:12",
     "output_type": "error",
     "traceback": [
      "LoadError: UndefVarError: @variable not defined\nin expression starting at In[2]:12",
      "",
      "Stacktrace:",
      " [1] top-level scope",
      "   @ :0",
      " [2] eval",
      "   @ ./boot.jl:373 [inlined]",
      " [3] include_string(mapexpr::typeof(REPL.softscope), mod::Module, code::String, filename::String)",
      "   @ Base ./loading.jl:1196"
     ]
    }
   ],
   "source": [
    "function node_master(node_pool)\n",
    "    # Node_pool : contient tous les patterns d'un noeud\n",
    "    # node_pool[i] : 1 pattern, situé à l'indice i\n",
    "    \n",
    "    master = Model(optimizer_with_attributes(() -> Gurobi.Optimizer(GUROBI_ENV)))\n",
    "    set_optimizer_attribute(master, \"OutputFlag\", 0)\n",
    "    \n",
    "    # Variable z\n",
    "    # Le premier indice est l'indice du pattern\n",
    "    z = Array{VariableRef,1}(undef,size(node_pool,1))\n",
    "    for c in 1:size(node_pool,1)\n",
    "        z[c]=@variable(master,lower_bound=0)\n",
    "        set_name(z[c], \"z_$c\")\n",
    "    end\n",
    "    \n",
    "    # Contraintes\n",
    "    # Chaque paire apparait au maximum une fois dans chaque cycle/chaque pattern\n",
    "    paire=@constraint(master,paire[ind in 1:P],sum(node_pool[i][ind+1]*z[i] for i in 1:size(node_pool,1))<=1)\n",
    "    \n",
    "    # Objectif : maximiser le nombre de transplantations\n",
    "    @objective(master,Max,sum(node_pool[i][1]*z[i] for i in 1:size(node_pool,1)))\n",
    "    \n",
    "    # Retourne les contraintes, les variables de référence et le modèle\n",
    "    return paire,z,master\n",
    "end"
   ]
  }
 ],
 "metadata": {
  "kernelspec": {
   "display_name": "Julia 1.7.2",
   "language": "julia",
   "name": "julia-1.7"
  },
  "language_info": {
   "file_extension": ".jl",
   "mimetype": "application/julia",
   "name": "julia",
   "version": "1.7.2"
  }
 },
 "nbformat": 4,
 "nbformat_minor": 4
}
