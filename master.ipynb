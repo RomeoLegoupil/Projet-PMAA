{
 "cells": [
  {
   "cell_type": "markdown",
   "metadata": {},
   "source": [
    "### Fonction qui implémente le problème maître restreint (de la génération de colonnes)"
   ]
  },
  {
   "cell_type": "markdown",
   "metadata": {},
   "source": [
    "Le problème maître restreint, qui est la reformulation Dantzig-Wolfe du MIP est :\n",
    "\n",
    "max $\\sum_{c \\in C_L'} w_c z_c$\n",
    "\n",
    "tel que :\n",
    "- $\\sum_{c \\in C_L'(i)} z_c \\le 1, \\forall i \\in V$,\n",
    "- $z \\in [0,1]^{|C_L'|}$,\n",
    "\n",
    "où $C_L' \\subset C_L$.\n",
    "\n",
    "On note $z_c=\\{0,1\\}=1$ si le cycle $c$ est choisi.\n",
    "\n",
    "On réécrit le problème en le mettant sous forme de minimisation :\n",
    "\n",
    "min $- \\sum_{c \\in C_L'} w_c z_c$\n",
    "\n",
    "tel que :\n",
    "- $\\sum_{c \\in C_L'(i)} z_c \\le 1, \\forall i \\in V$,\n",
    "- $z \\in [0,1]^{|C_L'|}$,\n",
    "\n",
    "où $C_L' \\subset C_L$."
   ]
  },
  {
   "cell_type": "code",
   "execution_count": 2,
   "metadata": {},
   "outputs": [
    {
     "ename": "LoadError",
     "evalue": "LoadError: UndefVarError: @variable not defined\nin expression starting at In[2]:12",
     "output_type": "error",
     "traceback": [
      "LoadError: UndefVarError: @variable not defined\nin expression starting at In[2]:12",
      "",
      "Stacktrace:",
      " [1] top-level scope",
      "   @ :0",
      " [2] eval",
      "   @ ./boot.jl:373 [inlined]",
      " [3] include_string(mapexpr::typeof(REPL.softscope), mod::Module, code::String, filename::String)",
      "   @ Base ./loading.jl:1196"
     ]
    }
   ],
   "source": [
    "function node_master(node_pool)\n",
    "    # Node_pool : contient tous les patterns d'un noeud\n",
    "    # node_pool[i] : 1 pattern, situé à l'indice i\n",
    "    \n",
    "    master = Model(optimizer_with_attributes(() -> Gurobi.Optimizer(GUROBI_ENV)))\n",
    "    set_optimizer_attribute(master, \"OutputFlag\", 0)\n",
    "    \n",
    "    # Variable ylc\n",
    "    # Le premier indice est l'indice l (cf klimentova), le 2e est l'indice du cycle dans le sous-graphe l,  \n",
    "    ylc = Array{Array{VariableRef,1},1}(undef,nv(new_inst.graph))\n",
    "    for l in 1:nv(new_inst.graph)\n",
    "        ylc[l]=Array{VariableRef,1}(undef,size(node_pool[l],1))\n",
    "    end\n",
    "    for l in 1:nv(new_inst.graph)\n",
    "        for c in 1:size(node_pool[l],1)\n",
    "            ylc[l][c]=@variable(master,lower_bound=0)\n",
    "            set_name(ylc[l][c], \"ylc_$l,$c\")\n",
    "        end\n",
    "    end\n",
    "    \n",
    "    # Contraintes\n",
    "    # Chaque sommet apparait au maximum une fois dans chaque cycle/chaque pattern\n",
    "    sommets=@constraint(master,sommet[ind in 1:nv(new_inst.graph)],sum(ylc[l][c] for l in 1:nv(new_inst.graph), c in 1:size(node_pool[l],1) if node_pool[l][c][ind+1]>0) <=1)\n",
    "    \n",
    "    # Objectif : maximiser le nombre de transplantations\n",
    "    @objective(master,Max,sum(ylc[l][c]*sum(node_pool[l][c][i] for i in 2:size(node_pool[l][c],1))\n",
    "            for l in 1:nv(new_inst.graph),c in 1:size(node_pool[l],1)))\n",
    "    \n",
    "    # Retourne les contraintes, les variables de référence et le modèle\n",
    "    return sommets,ylc,master\n",
    "end"
   ]
  }
 ],
 "metadata": {
  "kernelspec": {
   "display_name": "Julia 1.7.2",
   "language": "julia",
   "name": "julia-1.7"
  },
  "language_info": {
   "file_extension": ".jl",
   "mimetype": "application/julia",
   "name": "julia",
   "version": "1.7.2"
  }
 },
 "nbformat": 4,
 "nbformat_minor": 4
}
